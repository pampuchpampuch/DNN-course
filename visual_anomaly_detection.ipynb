{
  "cells": [
    {
      "cell_type": "markdown",
      "metadata": {
        "id": "sX1mUWZIyBBh"
      },
      "source": [
        "# Low-shot visual anomaly detection (v2)\n",
        "\n",
        "*This is the second version of the homework with some additional clarifications and changes in the task descriptions (see slack channel for details). The code remains untouched.*\n",
        "\n",
        "In this notebook you'll investigate visual anomaly detection in a typical industrial setting - we don't have much data and we can train only only normal (non-anomalous) examples.\n",
        "Read the [PADIM paper](https://arxiv.org/pdf/2011.08785.pdf) carefully.\n",
        "The code here is based on the original implementation from its authors.\n",
        "\n",
        "If you have any questions - please write them on slack in the channel.\n",
        "\n",
        "### Bibliography\n",
        "\n",
        "1. Defard, T., Setkov, A., Loesch, A., & Audigier, R. (2021). [Padim: a patch distribution modeling framework for anomaly detection and localization](https://arxiv.org/pdf/2011.08785.pdf). In International Conference on Pattern Recognition (pp. 475-489). Cham: Springer International Publishing."
      ]
    },
    {
      "cell_type": "markdown",
      "metadata": {
        "id": "zpM3H1vbyBBk"
      },
      "source": [
        "## Data\n",
        "\n",
        "In case of any problems - please visit [MVTec AD](https://www.mvtec.com/company/research/datasets/mvtec-ad/downloads) to get the access to the data."
      ]
    },
    {
      "cell_type": "code",
      "execution_count": 1,
      "metadata": {
        "id": "DQ5Uk0bQyBBl"
      },
      "outputs": [],
      "source": [
        "# %pip install --quiet gdown  # for those who don't run it on Google Colab\n",
        "# !gdown -q '1r7WJeDb-E5zzgQSOx7F7bNWg8kYX3yKE'\n",
        "# !gdown -q '1Kb420ygkN1iBni5Iy_-psLGNoY0gQFk9'\n",
        "# !gdown -q '12wDP9I3aVIr1qLekWY3GLhQO7c6SRhGn'\n",
        "\n",
        "!wget -q https://www.mydrive.ch/shares/38536/3830184030e49fe74747669442f0f282/download/420937370-1629951468/bottle.tar.xz\n",
        "!wget -q https://www.mydrive.ch/shares/38536/3830184030e49fe74747669442f0f282/download/420938166-1629953277/transistor.tar.xz\n",
        "!wget -q https://www.mydrive.ch/shares/38536/3830184030e49fe74747669442f0f282/download/420937637-1629952063/metal_nut.tar.xz"
      ]
    },
    {
      "cell_type": "code",
      "execution_count": 2,
      "metadata": {
        "id": "SODS0P7NyBBm"
      },
      "outputs": [],
      "source": [
        "from pathlib import Path\n",
        "import tarfile\n",
        "\n",
        "DATA_PATH = Path('./mvtec_anomaly_detection')\n",
        "DATA_PATH.mkdir(exist_ok=True)\n",
        "\n",
        "for class_name in ['bottle', 'metal_nut', 'transistor']:\n",
        "    if not (DATA_PATH / class_name).exists():\n",
        "        with tarfile.open(class_name + '.tar.xz') as tar:\n",
        "            tar.extractall(path=DATA_PATH)"
      ]
    },
    {
      "cell_type": "code",
      "source": [
        "# from google.colab import drive\n",
        "# drive.mount('/content/drive')\n",
        "\n",
        "# from pathlib import Path\n",
        "# import tarfile\n",
        "\n",
        "# DATA_PATH = Path('./mvtec_anomaly_detection')\n",
        "# DATA_PATH.mkdir(exist_ok=True)\n",
        "\n",
        "# for class_name in ['bottle', 'metal_nut', 'transistor']:\n",
        "#     if not (DATA_PATH / class_name).exists():\n",
        "#         with tarfile.open('/content/drive/MyDrive/mvtec_anomaly_detection/' + class_name + '.tar.xz') as tar:\n",
        "#             tar.extractall(path=DATA_PATH)"
      ],
      "metadata": {
        "id": "kT0Xx-keivg6"
      },
      "execution_count": 3,
      "outputs": []
    },
    {
      "cell_type": "markdown",
      "metadata": {
        "id": "lNkOa2VPyBBm"
      },
      "source": [
        "## PADIM implementation"
      ]
    },
    {
      "cell_type": "code",
      "execution_count": 3,
      "metadata": {
        "id": "u-o7xy9myBBm"
      },
      "outputs": [],
      "source": [
        "import os\n",
        "import random\n",
        "import time\n",
        "from pathlib import Path\n",
        "from random import sample\n",
        "from typing import cast, Any, Dict, List, Optional, Tuple\n",
        "\n",
        "import pandas as pd\n",
        "import matplotlib.pyplot as plt\n",
        "import numpy as np\n",
        "import torch\n",
        "import torch.backends, torch.backends.mps\n",
        "import torch.nn.functional as F\n",
        "from numpy.typing import NDArray\n",
        "from matplotlib import colors\n",
        "from PIL import Image\n",
        "from sklearn.metrics import roc_auc_score, roc_curve, precision_recall_curve\n",
        "from scipy.spatial.distance import mahalanobis\n",
        "from scipy.ndimage import gaussian_filter\n",
        "from skimage import morphology\n",
        "from skimage.segmentation import mark_boundaries\n",
        "from torch.utils.data import DataLoader, Dataset\n",
        "from torchvision.models import wide_resnet50_2, resnet18, Wide_ResNet50_2_Weights, ResNet18_Weights\n",
        "from torch import nn\n",
        "from torchvision import transforms as T\n",
        "from tqdm import tqdm\n",
        "from torch.utils.data.sampler import SubsetRandomSampler\n",
        "\n",
        "FloatNDArray = NDArray[np.float32]"
      ]
    },
    {
      "cell_type": "code",
      "execution_count": 4,
      "metadata": {
        "id": "5aa_Qfm5yBBn"
      },
      "outputs": [],
      "source": [
        "# Leave it as is if you're unsure, this notebook will guess this for you below.\n",
        "DEVICE: Optional[torch.device] = None\n",
        "SEED: int = 42  # do not modify\n",
        "\n",
        "plt.style.use(\"dark_background\")"
      ]
    },
    {
      "cell_type": "code",
      "execution_count": 5,
      "metadata": {
        "id": "QoBOdQqIyBBn"
      },
      "outputs": [],
      "source": [
        "def seed_all(seed: int = 0) -> None:\n",
        "    random.seed(seed)\n",
        "    np.random.seed(seed)\n",
        "    torch.manual_seed(seed)\n",
        "    if torch.cuda.is_available():\n",
        "        torch.cuda.manual_seed_all(seed)\n",
        "\n",
        "\n",
        "def get_best_device_for_pytorch() -> torch.device:\n",
        "    if torch.cuda.is_available():\n",
        "        device_str = \"cuda\"     # GPU\n",
        "    elif hasattr(torch.backends, \"mps\") and torch.backends.mps.is_available():\n",
        "        device_str = \"mps\"      # Apple silicon\n",
        "    else:\n",
        "        device_str = \"cpu\"      # CPU\n",
        "    return torch.device(device_str)"
      ]
    },
    {
      "cell_type": "code",
      "execution_count": 6,
      "metadata": {
        "id": "IOthbfZvyBBn",
        "outputId": "67af9e03-e9b9-4ebd-94de-257ab793b327",
        "colab": {
          "base_uri": "https://localhost:8080/"
        }
      },
      "outputs": [
        {
          "output_type": "stream",
          "name": "stdout",
          "text": [
            "Using PyTorch with cuda backend.\n",
            "Seeded everything with 42.\n"
          ]
        }
      ],
      "source": [
        "if not DEVICE:\n",
        "    DEVICE = get_best_device_for_pytorch()\n",
        "print(f\"Using PyTorch with {DEVICE} backend.\")\n",
        "\n",
        "seed_all(SEED)\n",
        "print(f\"Seeded everything with {SEED}.\")"
      ]
    },
    {
      "cell_type": "markdown",
      "metadata": {
        "id": "QMYBc98NyBBo"
      },
      "source": [
        "### MVTecDataset"
      ]
    },
    {
      "cell_type": "code",
      "execution_count": 7,
      "metadata": {
        "id": "H7l58YuCyBBo"
      },
      "outputs": [],
      "source": [
        "class MVTecDataset(Dataset[Tuple[torch.Tensor, int, torch.Tensor]]):\n",
        "    \"\"\"MVTec dataset of industrial objects with and without anomalies.\n",
        "\n",
        "    Yields (x, y, mask) tuples where:\n",
        "    - x is an RGB image from the class, as float tensor of shape (3, cropsize, cropsize);\n",
        "    - y is an int, 0 for good images, 1 for anomalous images;\n",
        "    - mask is 0 for normal pixels, 1 for anomalous pixels, as float tensor of shape (1, cropsize, cropsize).\n",
        "\n",
        "    Source: https://github.com/xiahaifeng1995/PaDiM-Anomaly-Detection-Localization-master/blob/main/datasets/mvtec.py\n",
        "    \"\"\"\n",
        "\n",
        "    def __init__(self, dataset_path: Path, class_name: str = 'bottle',\n",
        "                 is_train: bool = True, resize: int = 256, cropsize: int = 224, return_only_indices=False):\n",
        "        self.dataset_path = dataset_path\n",
        "        self.class_name = class_name\n",
        "        assert (dataset_path / class_name).is_dir(), f'Dataset class not found: {dataset_path / class_name}'\n",
        "        self.is_train = is_train\n",
        "\n",
        "        self.resize = resize\n",
        "        self.cropsize = cropsize\n",
        "\n",
        "        # load dataset\n",
        "        self.x, self.y, self.mask = self.load_dataset_folder()\n",
        "\n",
        "        # set transforms\n",
        "        self.transform_x = T.Compose([T.Resize(resize, Image.LANCZOS),\n",
        "                                      T.CenterCrop(cropsize),\n",
        "                                      T.ToTensor(),\n",
        "                                      T.Normalize(mean=[0.485, 0.456, 0.406],\n",
        "                                                  std=[0.229, 0.224, 0.225])])\n",
        "        self.transform_mask = T.Compose([T.Resize(resize, Image.NEAREST),\n",
        "                                         T.CenterCrop(cropsize),\n",
        "                                         T.ToTensor()])\n",
        "\n",
        "        self.return_only_indices = return_only_indices\n",
        "\n",
        "    def __getitem__(self, idx: int) -> Tuple[torch.Tensor, int, torch.Tensor]:\n",
        "        if self.return_only_indices:  # Used for checking the answer of T1.1.\n",
        "            return idx\n",
        "\n",
        "        x, y, mask = self.x[idx], self.y[idx], self.mask[idx]\n",
        "\n",
        "        x = Image.open(x).convert('RGB')\n",
        "        x = cast(torch.Tensor, self.transform_x(x))\n",
        "\n",
        "        if y == 0:\n",
        "            mask = torch.zeros([1, self.cropsize, self.cropsize])\n",
        "        else:\n",
        "            assert mask is not None\n",
        "            mask = Image.open(mask)\n",
        "            mask = cast(torch.Tensor, self.transform_mask(mask))\n",
        "\n",
        "        return x, y, mask\n",
        "\n",
        "    def __len__(self) -> int:\n",
        "        return len(self.x)\n",
        "\n",
        "    def load_dataset_folder(self) -> Tuple[List[Path], List[int], List[Optional[Path]]]:\n",
        "        phase = 'train' if self.is_train else 'test'\n",
        "        x: List[Path] = []\n",
        "        y: List[int] = []\n",
        "        mask: List[Optional[Path]] = []\n",
        "\n",
        "        img_dir = self.dataset_path / self.class_name / phase\n",
        "        gt_dir = self.dataset_path / self.class_name / 'ground_truth'\n",
        "\n",
        "        for img_type_dir in sorted(img_dir.iterdir()):\n",
        "            # Load images.\n",
        "            if not img_type_dir.is_dir():\n",
        "                continue\n",
        "            img_fpath_list = sorted(img_type_dir.glob('*.png'))\n",
        "            x.extend(img_fpath_list)\n",
        "\n",
        "            # Load ground-truth labels and masks.\n",
        "            if img_type_dir.name == 'good':\n",
        "                y.extend([0] * len(img_fpath_list))\n",
        "                mask.extend([None] * len(img_fpath_list))\n",
        "            else:\n",
        "                y.extend([1] * len(img_fpath_list))\n",
        "                mask.extend([gt_dir / img_type_dir.name / (f.stem + '_mask.png')\n",
        "                            for f in img_fpath_list])\n",
        "\n",
        "        assert len(x) == len(y) == len(mask), 'Number of x, y, and mask should be the same.'\n",
        "        return x, y, mask"
      ]
    },
    {
      "cell_type": "code",
      "execution_count": 8,
      "metadata": {
        "id": "LcVEJNRiyBBp"
      },
      "outputs": [],
      "source": [
        "def sample_idx(number_of_features: int, max_number_of_features: int) -> torch.Tensor:\n",
        "    assert number_of_features <= max_number_of_features\n",
        "    return torch.tensor(sample(range(0, max_number_of_features), number_of_features))\n",
        "\n",
        "\n",
        "def denormalization(x: FloatNDArray) -> NDArray[np.uint8]:\n",
        "    \"\"\"Denormalize with ImageNet values.\"\"\"\n",
        "    mean = np.array([0.485, 0.456, 0.406])\n",
        "    std = np.array([0.229, 0.224, 0.225])\n",
        "    return (((x.transpose(1, 2, 0) * std) + mean) * 255.).astype(np.uint8)\n",
        "\n",
        "\n",
        "def embedding_concat(x: torch.Tensor, y: torch.Tensor) -> torch.Tensor:\n",
        "    \"\"\"\n",
        "    Concatenate embeddings (along the channel dimension, upscaling y to match x).\n",
        "\n",
        "    Args:\n",
        "        x: Tensor of shape (B, C1, H1, W1).\n",
        "        y: Tensor of shape (B, C2, H2, W2).\n",
        "\n",
        "    Returns:\n",
        "        Tensor of shape is (B, C1 + C2, H1, W1).\n",
        "    \"\"\"\n",
        "    B, C1, H1, W1 = x.size()\n",
        "    _, C2, H2, W2 = y.size()\n",
        "    s = int(H1 / H2)\n",
        "    x = F.unfold(x, kernel_size=s, dilation=1, stride=s)\n",
        "    x = x.view(B, C1, s * s, H2, W2)\n",
        "    z = torch.zeros(B, C1 + C2, s * s, H2, W2).to(x.device)\n",
        "    for i in range(s * s):\n",
        "        z[:, :, i, :, :] = torch.cat((x[:, :, i, :, :], y), dim=1)\n",
        "    z = z.view(B, -1, H2 * W2)\n",
        "    z = F.fold(z, kernel_size=s, output_size=(H1, W1), stride=s)\n",
        "    return z\n",
        "\n",
        "def concatenate_embeddings_from_all_layers(layer_outputs: Dict[str, torch.Tensor]) -> torch.Tensor:\n",
        "        embedding_vectors = layer_outputs['layer1']\n",
        "        for layer_name in ['layer2', 'layer3']:\n",
        "            embedding_vectors = embedding_concat(embedding_vectors, layer_outputs[layer_name])\n",
        "        return embedding_vectors\n",
        "\n",
        "def plot_fig(test_img, scores, gts, threshold: float, save_dir: Path, class_name: str):\n",
        "    num = len(scores)\n",
        "    vmax = scores.max() * 255.\n",
        "    vmin = scores.min() * 255.\n",
        "    for i in range(num):\n",
        "        img = test_img[i]\n",
        "        img = denormalization(img)\n",
        "        gt = gts[i].transpose(1, 2, 0).squeeze()\n",
        "        heat_map = scores[i] * 255\n",
        "        mask = scores[i]\n",
        "        mask[mask > threshold] = 1\n",
        "        mask[mask <= threshold] = 0\n",
        "        kernel = morphology.disk(4)\n",
        "        mask = morphology.opening(mask, kernel)\n",
        "        mask *= 255\n",
        "        vis_img = mark_boundaries(img, mask, color=(1, 0, 0), mode='thick')\n",
        "        fig_img, ax_img = plt.subplots(1, 5, figsize=(12, 3))\n",
        "        fig_img.subplots_adjust(right=0.9)\n",
        "        norm = colors.Normalize(vmin=vmin, vmax=vmax)\n",
        "        for ax_i in ax_img:\n",
        "            ax_i.axes.xaxis.set_visible(False)\n",
        "            ax_i.axes.yaxis.set_visible(False)\n",
        "        ax_img[0].imshow(img)\n",
        "        ax_img[0].title.set_text('Image')\n",
        "        ax_img[1].imshow(gt, cmap='gray')\n",
        "        ax_img[1].title.set_text('GroundTruth')\n",
        "        ax = ax_img[2].imshow(heat_map, cmap='jet', norm=norm)\n",
        "        ax_img[2].imshow(img, cmap='gray', interpolation='none')\n",
        "        ax_img[2].imshow(heat_map, cmap='jet', alpha=0.5, interpolation='none')\n",
        "        ax_img[2].title.set_text('Predicted heat map')\n",
        "        ax_img[3].imshow(mask, cmap='gray')\n",
        "        ax_img[3].title.set_text('Predicted mask')\n",
        "        ax_img[4].imshow(vis_img)\n",
        "        ax_img[4].title.set_text('Segmentation result')\n",
        "        left = 0.92\n",
        "        bottom = 0.15\n",
        "        width = 0.015\n",
        "        height = 1 - 2 * bottom\n",
        "        rect = [left, bottom, width, height]\n",
        "        cbar_ax = fig_img.add_axes(rect)\n",
        "        cb = plt.colorbar(ax, shrink=0.6, cax=cbar_ax, fraction=0.046)\n",
        "        cb.ax.tick_params(labelsize=8)\n",
        "        font = {\n",
        "            'family': 'serif',\n",
        "            'color': 'black',\n",
        "            'weight': 'normal',\n",
        "            'size': 8,\n",
        "        }\n",
        "        cb.set_label('Anomaly Score', fontdict=font)\n",
        "\n",
        "        fig_img.savefig(save_dir / f'{class_name}_{i}', dpi=100)\n",
        "        plt.close()"
      ]
    },
    {
      "cell_type": "code",
      "execution_count": 9,
      "metadata": {
        "id": "3_5fVZRvyBBp"
      },
      "outputs": [],
      "source": [
        "def get_feature_extractor(arch: str) -> nn.Module:\n",
        "    if arch == 'resnet18':\n",
        "        model = resnet18(weights=ResNet18_Weights.IMAGENET1K_V1, progress=True)\n",
        "        # t_d = 448\n",
        "        # d = 40\n",
        "    elif arch == 'wide_resnet50_2':\n",
        "        model = wide_resnet50_2(weights=Wide_ResNet50_2_Weights.IMAGENET1K_V1, progress=True)\n",
        "        # t_d = 1792\n",
        "        # d = 550\n",
        "    else:\n",
        "        raise NotImplementedError\n",
        "    return model"
      ]
    },
    {
      "cell_type": "markdown",
      "metadata": {
        "id": "acbpOyEGyBBp"
      },
      "source": [
        "### PADIM class"
      ]
    },
    {
      "cell_type": "code",
      "execution_count": 10,
      "metadata": {
        "id": "ppBr7UIGyBBp"
      },
      "outputs": [],
      "source": [
        "class PADIM():\n",
        "\n",
        "    def __init__(\n",
        "            self,\n",
        "            backbone: str,\n",
        "            device: torch.device,\n",
        "            save_path: Path,\n",
        "            backbone_features_idx: torch.Tensor,\n",
        "            class_names: List[str] = [\"bottle\"],\n",
        "            plot_metrics: bool = False,\n",
        "    ) -> None:\n",
        "        self.arch = backbone\n",
        "        self.device = device\n",
        "        self.model = get_feature_extractor(backbone)\n",
        "        self.model.to(device)\n",
        "        self.model.eval()\n",
        "\n",
        "        self.feature_subset_indices = backbone_features_idx\n",
        "        self.feature_subset_indices.to(device)\n",
        "\n",
        "        self.outputs: Dict[str, torch.Tensor] = {}\n",
        "\n",
        "        self.class_names = class_names\n",
        "        self.save_path = save_path\n",
        "        self.plot_metrics = plot_metrics\n",
        "\n",
        "        self.setup_hooks()\n",
        "        (self.save_path / f'temp_{self.arch}').mkdir(parents=True, exist_ok=True)\n",
        "\n",
        "        self.mean: FloatNDArray  # shape (C, H * W)\n",
        "        self.cov: FloatNDArray  # shape (C, C, H * W)\n",
        "\n",
        "    def setup_hooks(self):\n",
        "        \"\"\"Setup hooks to store model's intermediate outputs.\"\"\"\n",
        "        self.model.layer1[-1].register_forward_hook(lambda _, __, x: self.outputs.update({'layer1': x}))\n",
        "        self.model.layer2[-1].register_forward_hook(lambda _, __, x: self.outputs.update({'layer2': x}))\n",
        "        self.model.layer3[-1].register_forward_hook(lambda _, __, x: self.outputs.update({'layer3': x}))\n",
        "\n",
        "    def train_and_test(self, train_dataloader: DataLoader, test_dataloader: DataLoader) -> float:\n",
        "        self.train(train_dataloader)\n",
        "        return self.test(test_dataloader)\n",
        "\n",
        "    def train(self, train_dataloader: DataLoader) -> None:\n",
        "        self.train_outputs: Dict[str, List[torch.Tensor]] = {'layer1': [], 'layer2': [], 'layer3': []}\n",
        "        for x, _, _ in tqdm(train_dataloader, desc='Feature extraction (train)'):\n",
        "            # Run model prediction.\n",
        "            with torch.no_grad():\n",
        "                _ = self.model(x.to(DEVICE))\n",
        "            # Get intermediate layer outputs.\n",
        "            assert list(self.outputs.keys())  == ['layer1', 'layer2', 'layer3'], list(self.outputs.keys())\n",
        "            for k, v in self.outputs.items():\n",
        "                self.train_outputs[k].append(v.cpu().detach())\n",
        "            # Reset hook outputs.\n",
        "            self.outputs = {}\n",
        "\n",
        "        embedding_vectors = concatenate_embeddings_from_all_layers(\n",
        "            {k: torch.cat(v, 0) for k, v in self.train_outputs.items()})\n",
        "        embedding_vectors_subset = torch.index_select(embedding_vectors, 1, self.feature_subset_indices.cpu())\n",
        "\n",
        "        self.mean, self.cov = self.estimate_multivariate_gaussian(embedding_vectors_subset)\n",
        "        del(self.train_outputs)\n",
        "        return embedding_vectors_subset\n",
        "\n",
        "    def estimate_multivariate_gaussian(self, embedding_vectors: torch.Tensor\n",
        "                                       ) -> Tuple[FloatNDArray, FloatNDArray]:\n",
        "        \"\"\"Calculates multivariate Gaussian distribution.\n",
        "\n",
        "        Takes embeddings of shape (N, C, H, W).\n",
        "        Returns (mean, covariance) of shape (C, H * W) and (C, C, H * W) respectively.\n",
        "        \"\"\"\n",
        "        B, C, H, W = embedding_vectors.size()\n",
        "        embedding_vectors = embedding_vectors.view(B, C, H * W)\n",
        "        mean = torch.mean(embedding_vectors, dim=0).numpy()\n",
        "        cov = torch.zeros(C, C, H * W).numpy()\n",
        "        I = np.identity(C)\n",
        "        for i in tqdm(range(H * W), desc=\"Covariance estimation\"):\n",
        "            cov[:, :, i] = np.cov(embedding_vectors[:, :, i].numpy(), rowvar=False) + 0.01 * I\n",
        "        return mean, cov\n",
        "\n",
        "    def test(self, test_dataloader: DataLoader) -> float:\n",
        "        self.test_outputs: Dict[str, List[torch.Tensor]] = {'layer1': [], 'layer2': [], 'layer3': []}\n",
        "        test_imgs: List[FloatNDArray] = []\n",
        "        gt_list: List[NDArray[Any]] = []\n",
        "        gt_mask_list: List[FloatNDArray] = []\n",
        "\n",
        "        # Extract test set features.\n",
        "        for x, y, mask in tqdm(test_dataloader, desc='Feature extraction (test)', disable=False):\n",
        "            x_shape = x.shape\n",
        "            test_imgs.extend(x.cpu().detach().numpy())\n",
        "            gt_list.extend(y.cpu().detach().numpy())\n",
        "            gt_mask_list.extend(mask.cpu().detach().numpy())\n",
        "            # Run model prediction.\n",
        "            with torch.no_grad():\n",
        "                _ = self.model(x.to(DEVICE))\n",
        "            # Get intermediate layer outputs.\n",
        "            assert list(self.outputs.keys())  == ['layer1', 'layer2', 'layer3']\n",
        "            for k, v in self.outputs.items():\n",
        "                self.test_outputs[k].append(v.cpu().detach())\n",
        "            # Reset hook outputs.\n",
        "            self.outputs = {}\n",
        "        gt_mask = np.asarray(gt_mask_list)  # shape (len(test_dataset), 1, H, W)\n",
        "\n",
        "        embedding_vectors = concatenate_embeddings_from_all_layers(\n",
        "            {k: torch.cat(v, 0) for k, v in self.test_outputs.items()})\n",
        "        # shape (len(test_dataset), len(feature_subset_indices), H1, W1)\n",
        "        embedding_vectors_subset = torch.index_select(embedding_vectors, 1, self.feature_subset_indices.cpu())\n",
        "\n",
        "        distances = self.calculate_distances(embedding_vectors_subset)\n",
        "        score_map = self.prepare_anomaly_map((x_shape[2], x_shape[3]), distances)\n",
        "\n",
        "        img_fpr, img_tpr, img_auroc = self.calculate_auroc_image_level(score_map, gt_list)\n",
        "        pxl_fpr, pxl_tpr, pxl_auroc = self.calculate_auroc_pixel_level(score_map, gt_mask)\n",
        "\n",
        "        if self.plot_metrics:\n",
        "            print(f'[TEST] Image AUROC: {img_auroc:.3f}')\n",
        "            print(f'[TEST] Pixel AUROC: {pxl_auroc:.3f}')\n",
        "            threshold = self.calculate_optimal_threshold(score_map, gt_mask)\n",
        "            self.plot_test_results_for_class(gt_mask_list, test_imgs, score_map, threshold, img_fpr, img_tpr, img_auroc, pxl_fpr, pxl_tpr, pxl_auroc)\n",
        "\n",
        "        return pxl_auroc\n",
        "\n",
        "    # TODO: Some of your code for Task 1 goes here. You can add more functions if needed, but use the ones below - we will use them for checking your solution.\n",
        "\n",
        "    def test_permutation_importance(self, val_dataloader: DataLoader, features_to_permute: List[int]) -> List[float]:\n",
        "        \"\"\"Runs a series of tests on `val_dataloader`.\n",
        "        Returns a list of pixelwise AUROCs, where the n-th element of the list is generated by testing the embeddings from `permute_feature(embeddings, features_to_permute[n]).\"\"\"\n",
        "\n",
        "        self.test_outputs: Dict[str, List[torch.Tensor]] = {'layer1': [], 'layer2': [], 'layer3': []}\n",
        "        test_imgs: List[FloatNDArray] = []\n",
        "        gt_list: List[NDArray[Any]] = []\n",
        "        gt_mask_list: List[FloatNDArray] = []\n",
        "\n",
        "        # Extract test set features.\n",
        "        for x, y, mask in tqdm(val_dataloader, desc='Feature extraction (test)', disable=False):\n",
        "            x_shape = x.shape\n",
        "            test_imgs.extend(x.cpu().detach().numpy())\n",
        "            gt_list.extend(y.cpu().detach().numpy())\n",
        "            gt_mask_list.extend(mask.cpu().detach().numpy())\n",
        "            # Run model prediction.\n",
        "            with torch.no_grad():\n",
        "                _ = self.model(x.to(DEVICE))\n",
        "            # Get intermediate layer outputs.\n",
        "            assert list(self.outputs.keys())  == ['layer1', 'layer2', 'layer3']\n",
        "            for k, v in self.outputs.items():\n",
        "                self.test_outputs[k].append(v.cpu().detach())\n",
        "            # Reset hook outputs.\n",
        "            self.outputs = {}\n",
        "        gt_mask = np.asarray(gt_mask_list)  # shape (len(test_dataset), 1, H, W)\n",
        "\n",
        "        embedding_vectors = concatenate_embeddings_from_all_layers(\n",
        "            {k: torch.cat(v, 0) for k, v in self.test_outputs.items()})\n",
        "        # shape (len(test_dataset), len(feature_subset_indices), H1, W1)\n",
        "        embedding_vectors_subset = torch.index_select(embedding_vectors, 1, self.feature_subset_indices.cpu())\n",
        "\n",
        "        pxl_aurocs = []\n",
        "\n",
        "        for feature_n in features_to_permute:\n",
        "            permutated_embedding_vectors_subset = self.permute_feature(embedding_vectors_subset,feature_n)\n",
        "            distances = self.calculate_distances(permutated_embedding_vectors_subset)\n",
        "            score_map = self.prepare_anomaly_map((x_shape[2], x_shape[3]), distances)\n",
        "\n",
        "            # img_fpr, img_tpr, img_auroc = self.calculate_auroc_image_level(score_map, gt_list)\n",
        "            pxl_fpr, pxl_tpr, pxl_auroc = self.calculate_auroc_pixel_level(score_map, gt_mask)\n",
        "            pxl_aurocs.append(pxl_auroc)\n",
        "\n",
        "        # if self.plot_metrics:\n",
        "        #     print(f'[TEST] Image AUROC: {img_auroc:.3f}')\n",
        "        #     print(f'[TEST] Pixel AUROC: {pxl_auroc:.3f}')\n",
        "        #     threshold = self.calculate_optimal_threshold(score_map, gt_mask)\n",
        "        #     self.plot_test_results_for_class(gt_mask_list, test_imgs, score_map, threshold, img_fpr, img_tpr, img_auroc, pxl_fpr, pxl_tpr, pxl_auroc)\n",
        "\n",
        "        return pxl_aurocs\n",
        "\n",
        "    def permute_feature(self, embedding_vectors_subset: torch.Tensor, number_of_feature_to_permute: int) -> torch.Tensor:\n",
        "        \"\"\"Permutes the embeddings.\n",
        "\n",
        "        Takes embeddings of shape (N, C, H, W) and feature number to permute.\n",
        "        Returns embeddings with the same shape. See the description of T1 for the details.\n",
        "        \"\"\"\n",
        "        B,C,H,W = embedding_vectors_subset.shape\n",
        "        permutated_vectors = embedding_vectors_subset.clone().detach()\n",
        "        for b in range(B):\n",
        "            v = embedding_vectors_subset[b][number_of_feature_to_permute].flatten()\n",
        "            idx = torch.randperm(H*W)\n",
        "            v_perm = v[idx]\n",
        "            permutated_vectors[b][number_of_feature_to_permute] = v_perm.view(H,W)\n",
        "\n",
        "        return permutated_vectors\n",
        "\n",
        "\n",
        "    # TODO: End of your code for Task 1 (here)\n",
        "\n",
        "    def plot_test_results_for_class(self, gt_mask_list, test_imgs,\n",
        "                                    score_map, threshold: float,\n",
        "                                    img_fpr, img_tpr, img_auroc: float,\n",
        "                                    pxl_fpr, pxl_tpr, pxl_auroc: float):\n",
        "        _, ax = plt.subplots(1, 2, figsize=(8, 4))\n",
        "        ax[0].plot(img_fpr, img_tpr, label=f'Image AUROC: {img_auroc:.3f}')\n",
        "        ax[1].plot(pxl_fpr, pxl_tpr, label=f'Pixel AUROC: {pxl_auroc:.3f}')\n",
        "\n",
        "        save_dir = self.save_path / f'pictures_{self.arch}'\n",
        "        save_dir.mkdir(parents=True, exist_ok=True)\n",
        "        plot_fig(test_imgs, score_map, gt_mask_list,\n",
        "                 threshold, save_dir, \"\")\n",
        "\n",
        "    def calculate_auroc_image_level(self, score_map: FloatNDArray, gt_list: List[NDArray[Any]]) -> Tuple[FloatNDArray, FloatNDArray, float]:\n",
        "        \"\"\"Calculate image-level AUROC score.\"\"\"\n",
        "        img_scores = score_map.reshape(score_map.shape[0], -1).max(axis=1)\n",
        "        fpr, tpr, _ = roc_curve(gt_list, img_scores)  # false-positive-rates and true-positive-rates for consecutive thresholds (for plotting).\n",
        "        img_auroc = roc_auc_score(gt_list, img_scores)\n",
        "        return fpr, tpr, float(img_auroc)\n",
        "\n",
        "    def calculate_auroc_pixel_level(self, score_map: FloatNDArray, gt_mask: FloatNDArray) -> Tuple[FloatNDArray, FloatNDArray, float]:\n",
        "        \"\"\"Calculate per-pixel level AUROC.\"\"\"\n",
        "        assert score_map.shape == gt_mask.squeeze().shape, f\"{score_map.shape=}, {gt_mask.shape=}\"\n",
        "        fpr, tpr, _ = roc_curve(gt_mask.flatten(), score_map.flatten())\n",
        "        per_pixel_auroc = roc_auc_score(gt_mask.flatten(), score_map.flatten())\n",
        "        return fpr, tpr, float(per_pixel_auroc)\n",
        "\n",
        "    def calculate_optimal_threshold(self, score_map: FloatNDArray, gt_mask: FloatNDArray) -> float:\n",
        "        \"\"\"Calculate the optimal threshold with regard to F1 score.\"\"\"\n",
        "        assert score_map.shape == gt_mask.squeeze().shape\n",
        "        precision, recall, thresholds = precision_recall_curve(\n",
        "            gt_mask.flatten(), score_map.flatten())\n",
        "        a = 2 * precision * recall\n",
        "        b = precision + recall\n",
        "        f1 = np.divide(a, b, out=np.zeros_like(a), where=(b != 0))\n",
        "        threshold = thresholds[np.argmax(f1)]\n",
        "        return threshold\n",
        "\n",
        "    def calculate_distances(self, embedding_vectors: torch.Tensor) -> FloatNDArray:\n",
        "        \"\"\"Calculate Mahalanobis distance of each embedding vector from self.mean.\n",
        "\n",
        "        For embeddings of shape (N, C, H, W), returns shape (N, H, W).\n",
        "        \"\"\"\n",
        "        B, C, H, W = embedding_vectors.size()\n",
        "        embedding_vectors = embedding_vectors.view(B, C, H * W).numpy()\n",
        "        dist_list: List[List[np.float64]] = []\n",
        "        for i in range(H * W):\n",
        "            mean = self.mean[:, i]\n",
        "            conv_inv = np.linalg.inv(self.cov[:, :, i])\n",
        "            dist = [mahalanobis(sample[:, i], mean, conv_inv)\n",
        "                    for sample in embedding_vectors]\n",
        "            dist_list.append(dist)\n",
        "\n",
        "        return np.array(dist_list).transpose(1, 0).reshape(B, H, W)\n",
        "\n",
        "    def prepare_anomaly_map(self, shape: Tuple[int, int], distances: FloatNDArray) -> FloatNDArray:\n",
        "        \"\"\"Upsample distances to `shape`, apply Gaussian smoothing, and normalize to [0,1].\n",
        "\n",
        "        For distances of shape (N, H, W) and `shape` equal to (H2, W2), returns shape (N, H2, W2).\n",
        "        \"\"\"\n",
        "        dists = torch.Tensor(distances).unsqueeze(1)\n",
        "        shape = (dists.shape[0],) + shape\n",
        "        score_map = cast(FloatNDArray, F.interpolate(\n",
        "            dists, size=shape[2], mode='bilinear', align_corners=False).squeeze().numpy())\n",
        "        for i in range(score_map.shape[0]):\n",
        "            score_map[i] = gaussian_filter(score_map[i], sigma=4)\n",
        "\n",
        "        min_score, max_score = score_map.min(), score_map.max()\n",
        "        return (score_map - min_score) / (max_score - min_score + 1e-10)"
      ]
    },
    {
      "cell_type": "markdown",
      "metadata": {
        "id": "AEj1qGsXyBBq"
      },
      "source": [
        "### Let's see whether it works.\n",
        "Take a look to the `SAVE_PATH` to inspect the results."
      ]
    },
    {
      "cell_type": "code",
      "execution_count": null,
      "metadata": {
        "id": "y60_kJRGyBBq",
        "colab": {
          "base_uri": "https://localhost:8080/",
          "height": 507
        },
        "outputId": "aa2825e5-4f0f-44b7-d77f-bca95eb15786"
      },
      "outputs": [
        {
          "output_type": "stream",
          "name": "stdout",
          "text": [
            "========== bottle\n"
          ]
        },
        {
          "output_type": "stream",
          "name": "stderr",
          "text": [
            "Downloading: \"https://download.pytorch.org/models/resnet18-f37072fd.pth\" to /root/.cache/torch/hub/checkpoints/resnet18-f37072fd.pth\n",
            "100%|██████████| 44.7M/44.7M [00:00<00:00, 161MB/s]\n",
            "Feature extraction (train): 100%|██████████| 105/105 [00:10<00:00, 10.21it/s]\n",
            "Covariance estimation: 100%|██████████| 3136/3136 [00:01<00:00, 2536.47it/s]\n",
            "Feature extraction (test): 100%|██████████| 42/42 [00:05<00:00,  7.20it/s]\n"
          ]
        },
        {
          "output_type": "stream",
          "name": "stdout",
          "text": [
            "[TEST] Image AUROC: 0.998\n",
            "[TEST] Pixel AUROC: 0.981\n"
          ]
        },
        {
          "output_type": "display_data",
          "data": {
            "text/plain": [
              "<Figure size 800x400 with 2 Axes>"
            ],
            "image/png": "[encoded data removed]"
          },
          "metadata": {}
        }
      ],
      "source": [
        "seed_all(SEED)\n",
        "CLASS_NAMES = [\n",
        "            'bottle', #'metal_nut'\n",
        "            # 'cable', 'capsule', 'carpet', 'grid', 'hazelnut', 'leather',\n",
        "            # 'pill', 'screw', 'tile', 'toothbrush', 'transistor', 'wood', 'zipper'\n",
        "        ]\n",
        "BATCH_SIZE = 2\n",
        "RESIZE = 256 * 1\n",
        "CROP_SIZE = 224 * 1\n",
        "BACKBONE = \"resnet18\"\n",
        "NUMBER_OF_BACKBONE_FEATURES = 50\n",
        "MAX_NUMBER_OF_BACKBONE_FEATURES = 448\n",
        "\n",
        "run_timestamp = time.time()\n",
        "for class_name in CLASS_NAMES:\n",
        "    print('=' * 10, class_name)\n",
        "    SAVE_PATH = Path(f\"./results/{run_timestamp}/{class_name}\")\n",
        "\n",
        "    train_dataset = MVTecDataset(DATA_PATH, class_name=class_name, is_train=True, resize=RESIZE, cropsize=CROP_SIZE)\n",
        "    train_dataloader = DataLoader(train_dataset, batch_size=BATCH_SIZE, pin_memory=True)\n",
        "    test_dataset = MVTecDataset(DATA_PATH, class_name=class_name, is_train=False, resize=RESIZE, cropsize=CROP_SIZE)\n",
        "    test_dataloader = DataLoader(test_dataset, batch_size=BATCH_SIZE, pin_memory=True)\n",
        "\n",
        "    padim = PADIM(\n",
        "        backbone=BACKBONE,\n",
        "        device=DEVICE,\n",
        "        backbone_features_idx=sample_idx(NUMBER_OF_BACKBONE_FEATURES, MAX_NUMBER_OF_BACKBONE_FEATURES),\n",
        "        save_path=SAVE_PATH,\n",
        "        plot_metrics=True,\n",
        "    )\n",
        "\n",
        "    auroc = padim.train_and_test(\n",
        "        train_dataloader=train_dataloader,\n",
        "        test_dataloader=test_dataloader,\n",
        "    )\n"
      ]
    },
    {
      "cell_type": "markdown",
      "metadata": {
        "id": "9PhuLuNSyBBq"
      },
      "source": [
        "# Task 1. Finding the right features (40%)\n",
        "\n",
        "The authors of the paper argue that it doesn't really matter how we choose a subset of features. Let's make some steps towards exploring whether it's true for three different classes (`bottle`, `transistor`, `metal_nut`).\n",
        "Design an experiment which will rank the ResNet18 features by its importance. To do so, we'll implement our variation of [permutation feature importance](https://scikit-learn.org/stable/modules/permutation_importance.html#outline-of-the-permutation-importance-algorithm) on a subset of features produced by the backbone.\n",
        "\n",
        "## 1.1 Preparing the data\n",
        "- Using the test dataset, create `val_dataloader` (every even sample from the original test dataset) and `test_dataloader` (every odd sample). `SubsetRandomSampler` might be handy here.\n",
        "- Then, create 3-fold cross validation-like process in which you'll train three PADIM models on the first 100 ResNet features in three equally sized subsets of train dataset in which you discard 1/3 of the data ($\\texttt{padim}_{k}\\texttt{.train}(\\texttt{train\\_dataloader}_k)$) (see below). Again, `SubsetRandomSampler` might be handy here.\n",
        "\n",
        "In other words, you should have:\n",
        "\n",
        "- for $k=0$, the first 10 images indexes from the train dataset we should train on are `[1, 2, 4, 5, 7, 8, 10, 11, 13, 14]`,\n",
        "- for $k=1$, that's `[0, 2, 3, 5, 6, 8, 9, 11, 12, 14]`,\n",
        "- and for $k=2$, that's `[0, 1, 3, 4, 6, 7, 9, 10, 12, 13]`.\n",
        "\n",
        "For val and train, you should have `[0, 2, 4, ...]` and `[1, 3, 5, ...]` respectively (from the test dataset).\n",
        "\n",
        "Don't worry about the sampling order.\n",
        "Use these names for DataLoaders `val_dataloader`, `test_dataloader`. For k-fold training, store dataloaders in `train_dataloaders: List[DataLoader]`, where each element represent different $k$.\n",
        "For each class, store the results in `dataloaders` dictionary (the variable is defined in the code below) - we will use this to check your solution.\n",
        "\n",
        "## 1.2 Calculating the importances\n",
        "- In a given fold, each $j$-th feature shall be ranked based on the pixel-wise AUROC difference between the output of that model ($s_{k} \\leftarrow \\texttt{padim}_{k}\\texttt{.test}(\\texttt{val\\_dataloader})$) and the output with the model with permuted $j$-th feature ($s_{k, j} \\leftarrow \\texttt{padim}_{k}\\texttt{.test\\_permutation\\_importance}(\\texttt{val\\_dataloader, features\\_to\\_permute=}[j])$). In practice you can pass all the numbers of features to permute (instead of 1-element list and do the loop inside the method. See also `test_permutation_importance` method stub above.\n",
        "- Implement `permute_feature` method as follows: given the tensor with embeddings with shape `[B, C, H, W]`, by permutation of the $j$-th feature we mean randomly swapped values for $C=j$. Although (ideally) the order of swapping shall be **different** for every image, we don't require you to strictly guarantee that you won't get the same permutation twice (what matters here is not using the same permutation for **every** sample - you can e.g. use distinct calls to a shuffling function for every sample). In other words, for every image $b$ and feature $j$ you need to shuffle the last two dimensions (marked as stars in `[b, j, *, *]`) in an (ideally) unique manner.\n",
        "- Then, calculate the mean importance $i$ averaged on these folds and plot weights importance for the class ($i_j \\leftarrow \\frac{1}{K} \\sum_{k} ( s_k -  s_{k, j} )$, where $K$ is the number of folds).\n",
        "- Append results in `results` dictionary, where keys are class names and values are the lists of averaged feature importances (from feature 0 to feature 99).\n",
        "\n",
        "## 1.3 Drawing conclusions\n",
        "\n",
        "- Finally, for every class train three models on the full training data and evaluate it on the `test_dataloader`. The first model shall use the first 10 features, the second shall use worst 10 features (in terms of feature importance), and the third shall contain the best 10 features.\n",
        "- Write your conclusions (with the things enlisted below in mind). Simply plotting charts or outputting logs without any comment doesn't qualify as an answer to a question.\n",
        "\n",
        "Note 1: Limit yourself to the first 100 features of ResNet18. If you want, you can go with all of available features instead of 100, but it'll take some time to calculate. Converting parts of the code to PyTorch and running on GPU might change a lot here, but this is not evaluated in this exercise. This experiment can be calculated without GPU in less than one hour anyway.\n",
        "\n",
        "Note 2: If you'd like to be fully covered, one needs to explore if the features are correlated, as this might bias the results of feature importance calculations. However, this is not evaluated in this task for the sake of simplicity (that is, examining the 100 first features without worrying about correlated features are enough to get 100% from this task)."
      ]
    },
    {
      "cell_type": "code",
      "execution_count": null,
      "metadata": {
        "id": "vVZM9hxCyBBr"
      },
      "outputs": [],
      "source": [
        "# do not modify\n",
        "CLASS_NAMES = ['bottle', 'transistor', 'metal_nut']\n",
        "\n",
        "BATCH_SIZE = 1\n",
        "RESIZE = 256 * 2 // 4\n",
        "CROP_SIZE = 224 * 2 // 4\n",
        "BACKBONE = \"resnet18\"\n",
        "NUMBER_OF_BACKBONE_FEATURES = 10\n",
        "MAX_NUMBER_OF_BACKBONE_FEATURES = 100  # 448\n",
        "folds = 3"
      ]
    },
    {
      "cell_type": "code",
      "execution_count": null,
      "metadata": {
        "id": "emeE6o_5yBBr",
        "colab": {
          "base_uri": "https://localhost:8080/"
        },
        "outputId": "eb428f27-b067-43f9-ce9c-541326185176"
      },
      "outputs": [
        {
          "output_type": "stream",
          "name": "stdout",
          "text": [
            "1702859009.1054127\n"
          ]
        }
      ],
      "source": [
        "seed_all(SEED)\n",
        "results = {c: [0] * MAX_NUMBER_OF_BACKBONE_FEATURES for c in CLASS_NAMES}\n",
        "\n",
        "run_timestamp = time.time()\n",
        "print(f\"{run_timestamp}\")\n",
        "\n",
        "idx_all_fatures = torch.Tensor(range(MAX_NUMBER_OF_BACKBONE_FEATURES)).int()\n",
        "idx_first_n_features = torch.Tensor(range(NUMBER_OF_BACKBONE_FEATURES)).int()\n",
        "\n",
        "dataloaders = {c: {\"val_dataloader\": None, \"test_dataloader\": None, \"train_dataloaders\": None} for c in CLASS_NAMES}\n",
        "\n",
        "# TODO: Your code for T1.1, T1.2, and T1.3 goes below. Don't forget to write `test_permutation_importance` and `permute_feature` above in the PADIM code.\n",
        "\n",
        "for class_name in CLASS_NAMES:\n",
        "    train_dataset = MVTecDataset(DATA_PATH, class_name=class_name, is_train=True, resize=RESIZE, cropsize=CROP_SIZE)\n",
        "\n",
        "    test_dataset = MVTecDataset(DATA_PATH, class_name=class_name, is_train=False, resize=RESIZE, cropsize=CROP_SIZE)\n",
        "\n",
        "    dataloaders[class_name][\"val_dataloader\"] = DataLoader(test_dataset,\n",
        "                                                           batch_size=BATCH_SIZE,\n",
        "                                                           sampler=SubsetRandomSampler([i for i in range(len(test_dataset)) if i%2 == 0]))\n",
        "    dataloaders[class_name][\"test_dataloader\"] = DataLoader(test_dataset,\n",
        "                                                           batch_size=BATCH_SIZE,\n",
        "                                                           sampler=SubsetRandomSampler([i for i in range(len(test_dataset)) if i%2 == 1]))\n",
        "\n",
        "    dataloaders[class_name][\"train_dataloaders\"] = [DataLoader(train_dataset,\n",
        "                                                           batch_size=BATCH_SIZE,\n",
        "                                                           sampler=SubsetRandomSampler([j for j in range(len(train_dataset)) if j%3 != i])) for i in range(folds)]\n"
      ]
    },
    {
      "cell_type": "code",
      "source": [
        "# T1.2\n",
        "\n",
        "run_timestamp = time.time()\n",
        "\n",
        "results = {c:torch.Tensor(results[c]) for c in results}\n",
        "for class_name in CLASS_NAMES:\n",
        "\n",
        "    print('=' * 20, class_name)\n",
        "    SAVE_PATH = Path(f\"./results/{run_timestamp}/{class_name}\")\n",
        "    val_dataloader = dataloaders[class_name][\"val_dataloader\"]\n",
        "\n",
        "    for k in range(folds):\n",
        "        print('=' * 10, f'no. of a fold: {k}')\n",
        "        train_dataloader = dataloaders[class_name][\"train_dataloaders\"][k]\n",
        "\n",
        "        padim = PADIM(\n",
        "            backbone=BACKBONE,\n",
        "            device=DEVICE,\n",
        "            backbone_features_idx=idx_all_fatures,\n",
        "            save_path=SAVE_PATH,\n",
        "            plot_metrics=False,\n",
        "        )\n",
        "\n",
        "        padim.train(train_dataloader)\n",
        "        s_k = padim.test(val_dataloader)\n",
        "        s_kjs = padim.test_permutation_importance(val_dataloader, idx_all_fatures)\n",
        "\n",
        "        results[class_name] += s_k - torch.Tensor(s_kjs)\n",
        "\n",
        "    results[class_name] = results[class_name]/folds\n"
      ],
      "metadata": {
        "colab": {
          "base_uri": "https://localhost:8080/"
        },
        "id": "y_6OJFq_PgoT",
        "outputId": "83b5f330-a4e9-4352-ba1e-9cc9c796c58b"
      },
      "execution_count": null,
      "outputs": [
        {
          "output_type": "stream",
          "name": "stdout",
          "text": [
            "==================== bottle\n",
            "========== no. of a fold: 0\n"
          ]
        },
        {
          "output_type": "stream",
          "name": "stderr",
          "text": [
            "Feature extraction (train): 100%|██████████| 139/139 [00:06<00:00, 21.13it/s]\n",
            "Covariance estimation: 100%|██████████| 784/784 [00:00<00:00, 1595.28it/s]\n",
            "Feature extraction (test): 100%|██████████| 42/42 [00:01<00:00, 23.90it/s]\n",
            "Feature extraction (test): 100%|██████████| 42/42 [00:01<00:00, 24.10it/s]\n"
          ]
        },
        {
          "output_type": "stream",
          "name": "stdout",
          "text": [
            "========== no. of a fold: 1\n"
          ]
        },
        {
          "output_type": "stream",
          "name": "stderr",
          "text": [
            "Feature extraction (train): 100%|██████████| 139/139 [00:06<00:00, 21.35it/s]\n",
            "Covariance estimation: 100%|██████████| 784/784 [00:00<00:00, 1612.06it/s]\n",
            "Feature extraction (test): 100%|██████████| 42/42 [00:01<00:00, 23.46it/s]\n",
            "Feature extraction (test): 100%|██████████| 42/42 [00:01<00:00, 24.04it/s]\n"
          ]
        },
        {
          "output_type": "stream",
          "name": "stdout",
          "text": [
            "========== no. of a fold: 2\n"
          ]
        },
        {
          "output_type": "stream",
          "name": "stderr",
          "text": [
            "Feature extraction (train): 100%|██████████| 140/140 [00:06<00:00, 21.51it/s]\n",
            "Covariance estimation: 100%|██████████| 784/784 [00:00<00:00, 1640.46it/s]\n",
            "Feature extraction (test): 100%|██████████| 42/42 [00:01<00:00, 23.96it/s]\n",
            "Feature extraction (test): 100%|██████████| 42/42 [00:01<00:00, 25.02it/s]\n"
          ]
        },
        {
          "output_type": "stream",
          "name": "stdout",
          "text": [
            "==================== transistor\n",
            "========== no. of a fold: 0\n"
          ]
        },
        {
          "output_type": "stream",
          "name": "stderr",
          "text": [
            "Feature extraction (train): 100%|██████████| 142/142 [00:09<00:00, 14.70it/s]\n",
            "Covariance estimation: 100%|██████████| 784/784 [00:00<00:00, 1594.71it/s]\n",
            "Feature extraction (test): 100%|██████████| 50/50 [00:03<00:00, 15.92it/s]\n",
            "Feature extraction (test): 100%|██████████| 50/50 [00:03<00:00, 12.93it/s]\n"
          ]
        },
        {
          "output_type": "stream",
          "name": "stdout",
          "text": [
            "========== no. of a fold: 1\n"
          ]
        },
        {
          "output_type": "stream",
          "name": "stderr",
          "text": [
            "Feature extraction (train): 100%|██████████| 142/142 [00:09<00:00, 14.78it/s]\n",
            "Covariance estimation: 100%|██████████| 784/784 [00:00<00:00, 1647.16it/s]\n",
            "Feature extraction (test): 100%|██████████| 50/50 [00:03<00:00, 15.67it/s]\n",
            "Feature extraction (test): 100%|██████████| 50/50 [00:03<00:00, 12.72it/s]\n"
          ]
        },
        {
          "output_type": "stream",
          "name": "stdout",
          "text": [
            "========== no. of a fold: 2\n"
          ]
        },
        {
          "output_type": "stream",
          "name": "stderr",
          "text": [
            "Feature extraction (train): 100%|██████████| 142/142 [00:10<00:00, 14.12it/s]\n",
            "Covariance estimation: 100%|██████████| 784/784 [00:00<00:00, 1622.91it/s]\n",
            "Feature extraction (test): 100%|██████████| 50/50 [00:03<00:00, 13.10it/s]\n",
            "Feature extraction (test): 100%|██████████| 50/50 [00:03<00:00, 15.80it/s]\n"
          ]
        },
        {
          "output_type": "stream",
          "name": "stdout",
          "text": [
            "==================== metal_nut\n",
            "========== no. of a fold: 0\n"
          ]
        },
        {
          "output_type": "stream",
          "name": "stderr",
          "text": [
            "Feature extraction (train): 100%|██████████| 146/146 [00:04<00:00, 32.62it/s]\n",
            "Covariance estimation: 100%|██████████| 784/784 [00:00<00:00, 1601.98it/s]\n",
            "Feature extraction (test): 100%|██████████| 58/58 [00:01<00:00, 31.32it/s]\n",
            "Feature extraction (test): 100%|██████████| 58/58 [00:02<00:00, 26.61it/s]\n"
          ]
        },
        {
          "output_type": "stream",
          "name": "stdout",
          "text": [
            "========== no. of a fold: 1\n"
          ]
        },
        {
          "output_type": "stream",
          "name": "stderr",
          "text": [
            "Feature extraction (train): 100%|██████████| 147/147 [00:06<00:00, 23.38it/s]\n",
            "Covariance estimation: 100%|██████████| 784/784 [00:00<00:00, 1162.69it/s]\n",
            "Feature extraction (test): 100%|██████████| 58/58 [00:02<00:00, 23.06it/s]\n",
            "Feature extraction (test): 100%|██████████| 58/58 [00:03<00:00, 16.14it/s]\n"
          ]
        },
        {
          "output_type": "stream",
          "name": "stdout",
          "text": [
            "========== no. of a fold: 2\n"
          ]
        },
        {
          "output_type": "stream",
          "name": "stderr",
          "text": [
            "Feature extraction (train): 100%|██████████| 147/147 [00:05<00:00, 27.45it/s]\n",
            "Covariance estimation: 100%|██████████| 784/784 [00:00<00:00, 1347.90it/s]\n",
            "Feature extraction (test): 100%|██████████| 58/58 [00:01<00:00, 31.56it/s]\n",
            "Feature extraction (test): 100%|██████████| 58/58 [00:01<00:00, 32.24it/s]\n"
          ]
        }
      ]
    },
    {
      "cell_type": "code",
      "source": [
        "# T1.3\n",
        "\n",
        "# extract indeces of n worst and n best features\n",
        "\n",
        "features_indices = {c:{\"worst\":None, \"best\":None, \"first\":list(range(NUMBER_OF_BACKBONE_FEATURES))} for c in CLASS_NAMES}\n",
        "\n",
        "for c in CLASS_NAMES:\n",
        "    # print(results[c])\n",
        "    s = pd.Series(results[c])\n",
        "    features_indices[c][\"best\"] = s.sort_values(ascending=False)[:10].index.tolist()\n",
        "    features_indices[c][\"worst\"] = s.sort_values(ascending=True)[:10].index.tolist()\n",
        "\n",
        "run_timestamp = time.time()\n",
        "for class_name in CLASS_NAMES:\n",
        "    print('=' * 10, class_name)\n",
        "    SAVE_PATH = Path(f\"./results/{run_timestamp}/{class_name}\")\n",
        "\n",
        "    train_dataset = MVTecDataset(DATA_PATH, class_name=class_name, is_train=True, resize=RESIZE, cropsize=CROP_SIZE)\n",
        "    train_dataloader = DataLoader(train_dataset, batch_size=BATCH_SIZE, pin_memory=True)\n",
        "    test_dataloader = dataloaders[class_name][\"test_dataloader\"]\n",
        "\n",
        "    for k,v in features_indices[class_name].items():\n",
        "        print('-'*20, f'{NUMBER_OF_BACKBONE_FEATURES} {k} features')\n",
        "        padim = PADIM(\n",
        "            backbone=BACKBONE,\n",
        "            device=DEVICE,\n",
        "            backbone_features_idx=torch.tensor(v),\n",
        "            save_path=SAVE_PATH,\n",
        "            plot_metrics=True,\n",
        "        )\n",
        "\n",
        "        auroc = padim.train_and_test(\n",
        "            train_dataloader=train_dataloader,\n",
        "            test_dataloader=test_dataloader,\n",
        "        )\n",
        "\n"
      ],
      "metadata": {
        "colab": {
          "base_uri": "https://localhost:8080/",
          "height": 1000
        },
        "id": "96E0thRFj38H",
        "outputId": "a46ea1a8-4de0-49f2-daab-753312054dfe"
      },
      "execution_count": null,
      "outputs": [
        {
          "output_type": "stream",
          "name": "stdout",
          "text": [
            "========== bottle\n",
            "-------------------- 10 worst features\n"
          ]
        },
        {
          "output_type": "stream",
          "name": "stderr",
          "text": [
            "Feature extraction (train): 100%|██████████| 209/209 [00:09<00:00, 22.77it/s]\n",
            "Covariance estimation: 100%|██████████| 784/784 [00:00<00:00, 8075.32it/s]\n",
            "Feature extraction (test): 100%|██████████| 41/41 [00:01<00:00, 24.17it/s]\n"
          ]
        },
        {
          "output_type": "stream",
          "name": "stdout",
          "text": [
            "[TEST] Image AUROC: 0.965\n",
            "[TEST] Pixel AUROC: 0.955\n",
            "-------------------- 10 best features\n"
          ]
        },
        {
          "output_type": "stream",
          "name": "stderr",
          "text": [
            "Feature extraction (train): 100%|██████████| 209/209 [00:09<00:00, 22.15it/s]\n",
            "Covariance estimation: 100%|██████████| 784/784 [00:00<00:00, 7013.14it/s]\n",
            "Feature extraction (test): 100%|██████████| 41/41 [00:01<00:00, 24.56it/s]\n"
          ]
        },
        {
          "output_type": "stream",
          "name": "stdout",
          "text": [
            "[TEST] Image AUROC: 0.994\n",
            "[TEST] Pixel AUROC: 0.977\n",
            "-------------------- 10 first features\n"
          ]
        },
        {
          "output_type": "stream",
          "name": "stderr",
          "text": [
            "Feature extraction (train): 100%|██████████| 209/209 [00:09<00:00, 22.66it/s]\n",
            "Covariance estimation: 100%|██████████| 784/784 [00:00<00:00, 9951.11it/s]\n",
            "Feature extraction (test): 100%|██████████| 41/41 [00:01<00:00, 24.06it/s]\n"
          ]
        },
        {
          "output_type": "stream",
          "name": "stdout",
          "text": [
            "[TEST] Image AUROC: 0.994\n",
            "[TEST] Pixel AUROC: 0.970\n",
            "========== transistor\n",
            "-------------------- 10 worst features\n"
          ]
        },
        {
          "output_type": "stream",
          "name": "stderr",
          "text": [
            "Feature extraction (train): 100%|██████████| 213/213 [00:13<00:00, 15.22it/s]\n",
            "Covariance estimation: 100%|██████████| 784/784 [00:00<00:00, 7589.42it/s]\n",
            "Feature extraction (test): 100%|██████████| 50/50 [00:03<00:00, 16.09it/s]\n"
          ]
        },
        {
          "output_type": "stream",
          "name": "stdout",
          "text": [
            "[TEST] Image AUROC: 0.923\n",
            "[TEST] Pixel AUROC: 0.939\n",
            "-------------------- 10 best features\n"
          ]
        },
        {
          "output_type": "stream",
          "name": "stderr",
          "text": [
            "Feature extraction (train): 100%|██████████| 213/213 [00:14<00:00, 14.83it/s]\n",
            "Covariance estimation: 100%|██████████| 784/784 [00:00<00:00, 5233.89it/s]\n",
            "Feature extraction (test): 100%|██████████| 50/50 [00:03<00:00, 15.95it/s]\n"
          ]
        },
        {
          "output_type": "stream",
          "name": "stdout",
          "text": [
            "[TEST] Image AUROC: 0.885\n",
            "[TEST] Pixel AUROC: 0.952\n",
            "-------------------- 10 first features\n"
          ]
        },
        {
          "output_type": "stream",
          "name": "stderr",
          "text": [
            "Feature extraction (train): 100%|██████████| 213/213 [00:14<00:00, 14.94it/s]\n",
            "Covariance estimation: 100%|██████████| 784/784 [00:00<00:00, 6445.19it/s]\n",
            "Feature extraction (test): 100%|██████████| 50/50 [00:03<00:00, 15.27it/s]\n"
          ]
        },
        {
          "output_type": "stream",
          "name": "stdout",
          "text": [
            "[TEST] Image AUROC: 0.893\n",
            "[TEST] Pixel AUROC: 0.956\n",
            "========== metal_nut\n",
            "-------------------- 10 worst features\n"
          ]
        },
        {
          "output_type": "stream",
          "name": "stderr",
          "text": [
            "Feature extraction (train): 100%|██████████| 220/220 [00:06<00:00, 33.00it/s]\n",
            "Covariance estimation: 100%|██████████| 784/784 [00:00<00:00, 6938.56it/s]\n",
            "Feature extraction (test): 100%|██████████| 57/57 [00:02<00:00, 23.89it/s]\n"
          ]
        },
        {
          "output_type": "stream",
          "name": "stdout",
          "text": [
            "[TEST] Image AUROC: 0.917\n",
            "[TEST] Pixel AUROC: 0.891\n",
            "-------------------- 10 best features\n"
          ]
        },
        {
          "output_type": "stream",
          "name": "stderr",
          "text": [
            "Feature extraction (train): 100%|██████████| 220/220 [00:06<00:00, 32.67it/s]\n",
            "Covariance estimation: 100%|██████████| 784/784 [00:00<00:00, 5240.25it/s]\n",
            "Feature extraction (test): 100%|██████████| 57/57 [00:01<00:00, 31.12it/s]\n"
          ]
        },
        {
          "output_type": "stream",
          "name": "stdout",
          "text": [
            "[TEST] Image AUROC: 0.901\n",
            "[TEST] Pixel AUROC: 0.921\n",
            "-------------------- 10 first features\n"
          ]
        },
        {
          "output_type": "stream",
          "name": "stderr",
          "text": [
            "Feature extraction (train): 100%|██████████| 220/220 [00:07<00:00, 30.69it/s]\n",
            "Covariance estimation: 100%|██████████| 784/784 [00:00<00:00, 7375.48it/s]\n",
            "Feature extraction (test): 100%|██████████| 57/57 [00:01<00:00, 31.67it/s]\n"
          ]
        },
        {
          "output_type": "stream",
          "name": "stdout",
          "text": [
            "[TEST] Image AUROC: 0.945\n",
            "[TEST] Pixel AUROC: 0.938\n"
          ]
        },
        {
          "output_type": "display_data",
          "data": {
            "text/plain": [
              "<Figure size 800x400 with 2 Axes>"
            ],
            "image/png": "[encoded data removed]"
          },
          "metadata": {}
        },
        {
          "output_type": "display_data",
          "data": {
            "text/plain": [
              "<Figure size 800x400 with 2 Axes>"
            ],
            "image/png": "[encoded data removed]"
          },
          "metadata": {}
        },
        {
          "output_type": "display_data",
          "data": {
            "text/plain": [
              "<Figure size 800x400 with 2 Axes>"
            ],
            "image/png": "[encoded data removed]"
          },
          "metadata": {}
        },
        {
          "output_type": "display_data",
          "data": {
            "text/plain": [
              "<Figure size 800x400 with 2 Axes>"
            ],
            "image/png": "[encoded data removed]"
          },
          "metadata": {}
        },
        {
          "output_type": "display_data",
          "data": {
            "text/plain": [
              "<Figure size 800x400 with 2 Axes>"
            ],
            "image/png": "[encoded data removed]"
          },
          "metadata": {}
        },
        {
          "output_type": "display_data",
          "data": {
            "text/plain": [
              "<Figure size 800x400 with 2 Axes>"
            ],
            "image/png": "[encoded data removed]"
          },
          "metadata": {}
        },
        {
          "output_type": "display_data",
          "data": {
            "text/plain": [
              "<Figure size 800x400 with 2 Axes>"
            ],
            "image/png": "[encoded data removed]"
          },
          "metadata": {}
        },
        {
          "output_type": "display_data",
          "data": {
            "text/plain": [
              "<Figure size 800x400 with 2 Axes>"
            ],
            "image/png": "[encoded data removed]"
          },
          "metadata": {}
        },
        {
          "output_type": "display_data",
          "data": {
            "text/plain": [
              "<Figure size 800x400 with 2 Axes>"
            ],
            "image/png": "[encoded data removed]"
          },
          "metadata": {}
        }
      ]
    },
    {
      "cell_type": "markdown",
      "source": [
        "## T1.3 conclusions\n",
        "There are little consistent results when it comes to model performance among different datasets. For all datasets, pixel-wise AUROC is the lowest for the worst features, but highest pixel-wise AUROC was achieved for the best features only for the 'bottle' dataset. For 'transistor' and 'metal nut' first 10 features gave the best result. It is important to remember, that we took only first 100 features into consideration - it is possible, that the most important ones were not captured by our analysis. Also, correlations amongst features might have biased the results (so some features when taken into account together might be more informative, than other ones, that analysed separatly are more informative, but together are less important due to the fact, that they are correlated, so in a sense, using them together introduces redundancy).\n",
        "\n",
        "In conclusion, the results are not fully clear. Using worst features gave the worst results, but using the features with the highest importance more often than not, didn't gave the best result (but it is possible, that amongst best features there were some correlated ones. Using them together, instead of uncorrelated ones, can make the set of features less informative).\n",
        "\n",
        "Based on the result, I can not rule out the possibility, that in fact, how we choose the subset of features is important. However, they are not conclusive enough to say, that the authors made a mistake and further analysis should be concluded.\n"
      ],
      "metadata": {
        "id": "eeI647VbTGUy"
      }
    },
    {
      "cell_type": "code",
      "execution_count": null,
      "metadata": {
        "id": "sYXZu4viyBBr",
        "colab": {
          "base_uri": "https://localhost:8080/"
        },
        "outputId": "a8b57777-ebbb-4852-ddd0-0e47e0191105"
      },
      "outputs": [
        {
          "output_type": "stream",
          "name": "stdout",
          "text": [
            "tensor([ 2.1094e-04,  4.4765e-04, -1.0163e-04,  1.0688e-03,  2.6482e-04,\n",
            "         3.5910e-04,  1.6916e-04,  3.1557e-04,  7.3497e-04,  1.3147e-04,\n",
            "         2.2048e-03,  1.2532e-03,  6.3048e-04,  9.9375e-04,  1.3946e-03,\n",
            "         3.2324e-04,  2.3011e-04,  6.1524e-04,  6.0844e-04,  3.0138e-04,\n",
            "         5.2512e-04,  2.0471e-03,  4.6668e-04,  4.0990e-04,  6.2466e-05,\n",
            "         1.3527e-03,  1.2596e-03,  4.3378e-04,  9.2117e-04,  2.6202e-04,\n",
            "         5.8830e-04,  3.3126e-04,  2.6584e-04,  1.3393e-04,  2.3576e-04,\n",
            "         4.1385e-05,  7.1762e-04,  3.8727e-04,  5.6136e-04,  4.8318e-04,\n",
            "         3.3736e-04,  9.1050e-04,  7.5640e-04,  1.7636e-03,  5.2167e-03,\n",
            "         4.6128e-04,  8.4287e-04,  3.6865e-04,  6.4170e-04,  9.8507e-04,\n",
            "         1.1650e-03,  4.3806e-03,  3.3124e-04,  3.3736e-04,  1.9246e-04,\n",
            "         6.3068e-04,  7.2436e-04,  1.4265e-03,  6.6008e-04,  5.2003e-04,\n",
            "         2.3026e-03,  4.0803e-04, -2.3872e-04,  6.6262e-04,  1.8517e-04,\n",
            "         4.6829e-05,  4.1366e-05, -4.3809e-05,  9.0261e-05,  3.1213e-04,\n",
            "         1.2092e-04,  5.5832e-04,  1.5091e-03, -4.1306e-05,  1.5434e-04,\n",
            "         1.0391e-04,  8.2294e-05,  2.6254e-04,  5.4471e-04,  2.6222e-04,\n",
            "         4.6861e-04,  2.5241e-04,  3.4036e-04,  3.4827e-04,  6.3976e-06,\n",
            "         1.5728e-04,  1.1923e-04,  2.6298e-03,  1.9644e-04,  6.2692e-04,\n",
            "         1.8044e-04, -4.3948e-05,  3.5399e-04,  3.2785e-04,  1.1794e-03,\n",
            "         6.0461e-03,  7.4526e-05,  7.0457e-04,  1.0973e-04,  2.5968e-05])\n",
            "[95, 44, 51, 87, 60, 10, 21, 43, 72, 57]\n",
            "[62, 2, 91, 67, 73, 84, 99, 66, 35, 65]\n",
            "tensor([ 4.2206e-04, -2.1384e-04,  2.3002e-03,  1.4519e-03,  2.1797e-03,\n",
            "         4.0983e-03, -4.6490e-04,  3.6495e-03,  3.4817e-03,  1.4174e-04,\n",
            "         1.3570e-05,  7.4544e-04,  2.7590e-03, -1.1149e-03,  1.2377e-03,\n",
            "        -1.5140e-05,  1.6494e-03,  4.3710e-04,  1.6655e-03, -1.6447e-03,\n",
            "         3.7365e-03, -7.7869e-04,  1.7313e-03,  5.4838e-04, -1.7653e-04,\n",
            "         3.3633e-04,  2.5576e-04,  5.3614e-04,  5.0193e-03,  3.2027e-03,\n",
            "         2.3475e-03, -1.9441e-04,  1.5400e-03,  4.2546e-04,  5.8585e-04,\n",
            "         3.1610e-05,  1.3188e-03,  5.9563e-04,  1.4808e-03,  8.0866e-04,\n",
            "         2.9709e-03, -1.5335e-03,  2.2640e-04,  9.5242e-04, -5.2339e-04,\n",
            "        -6.7137e-04,  3.3682e-03, -8.9115e-04,  9.4444e-04,  2.6204e-04,\n",
            "        -2.3788e-04,  3.8519e-04,  8.0798e-04,  5.8617e-04, -8.7061e-04,\n",
            "        -5.4741e-04,  8.8056e-04,  4.8429e-04,  1.0445e-03, -9.9995e-04,\n",
            "         9.8030e-05,  1.3949e-04,  1.0424e-03,  9.4573e-04,  9.2850e-04,\n",
            "         5.3760e-03,  1.2135e-03,  2.3213e-03,  1.5161e-04,  1.3287e-03,\n",
            "         2.8775e-04, -7.8326e-04,  1.6702e-03,  3.6973e-04,  1.1708e-03,\n",
            "        -3.6001e-05, -2.2872e-04,  5.8540e-04,  8.1873e-04,  4.2282e-04,\n",
            "         2.7215e-04,  3.6772e-04,  2.5801e-04,  1.5419e-03,  2.1458e-05,\n",
            "         4.6884e-03,  3.5713e-04,  9.3705e-03,  1.1919e-03,  2.0133e-03,\n",
            "         1.3556e-03,  7.6236e-04, -7.4200e-04, -2.8922e-04,  1.7196e-04,\n",
            "        -8.8539e-04,  2.0321e-04, -2.0009e-04, -1.3586e-03,  3.3085e-03])\n",
            "[87, 65, 28, 85, 5, 20, 7, 8, 46, 99]\n",
            "[19, 41, 98, 13, 59, 47, 95, 54, 71, 21]\n",
            "tensor([2.0813e-03, 1.9383e-03, 3.3356e-03, 5.0920e-03, 4.9219e-03, 7.4593e-04,\n",
            "        1.5824e-03, 1.8300e-03, 5.0878e-03, 1.2284e-03, 1.8505e-03, 3.1684e-03,\n",
            "        2.2292e-03, 5.2047e-04, 1.0919e-02, 9.7338e-04, 1.1256e-03, 1.8981e-03,\n",
            "        1.3865e-03, 2.0331e-03, 3.8657e-03, 1.3851e-03, 2.7375e-03, 6.3380e-04,\n",
            "        5.7205e-04, 2.5771e-03, 6.6225e-03, 6.8869e-04, 2.1210e-03, 2.4376e-03,\n",
            "        2.6096e-03, 8.7939e-04, 2.0033e-03, 1.8307e-03, 7.4051e-04, 4.7662e-04,\n",
            "        3.3685e-03, 3.0020e-03, 1.1081e-03, 1.7061e-03, 1.9153e-03, 4.9164e-04,\n",
            "        8.5302e-04, 2.6714e-03, 1.6825e-03, 6.0221e-04, 2.8702e-03, 1.4982e-03,\n",
            "        1.2577e-03, 2.9164e-03, 2.1096e-03, 2.1662e-03, 1.9997e-03, 4.4962e-04,\n",
            "        1.1602e-03, 1.0659e-03, 1.6186e-03, 5.3369e-03, 2.2197e-03, 1.3649e-03,\n",
            "        1.7304e-03, 2.9095e-03, 1.1855e-03, 2.6149e-03, 5.0463e-04, 2.0781e-03,\n",
            "        1.7845e-03, 4.1586e-04, 2.2435e-04, 3.3031e-04, 4.7527e-04, 7.7428e-04,\n",
            "        1.1959e-03, 3.1700e-04, 4.9929e-04, 7.0473e-04, 1.7301e-04, 8.6546e-04,\n",
            "        5.3185e-04, 8.4241e-06, 2.7773e-03, 1.2374e-03, 2.5095e-03, 4.8412e-03,\n",
            "        6.2792e-04, 1.0942e-03, 9.3967e-04, 8.3258e-03, 1.5091e-03, 4.6949e-03,\n",
            "        4.2140e-04, 4.1644e-04, 1.4998e-03, 1.1512e-03, 7.8201e-04, 5.8498e-03,\n",
            "        2.4960e-03, 5.5734e-04, 6.2549e-04, 2.1025e-04])\n",
            "[14, 87, 26, 95, 57, 3, 8, 4, 83, 89]\n",
            "[79, 76, 99, 68, 73, 69, 67, 91, 90, 53]\n",
            "[0, 2, 4, 6, 8, 10, 12, 14, 16, 18, 20, 22, 24, 26, 28, 30, 32, 34, 36, 38, 40, 42, 44, 46, 48, 50, 52, 54, 56, 58, 60, 62, 64, 66, 68, 70, 72, 74, 76, 78, 80, 82]\n",
            "[1, 3, 5, 7, 9, 11, 13, 15, 17, 19, 21, 23, 25, 27, 29, 31, 33, 35, 37, 39, 41, 43, 45, 47, 49, 51, 53, 55, 57, 59, 61, 63, 65, 67, 69, 71, 73, 75, 77, 79, 81]\n",
            "[1, 2, 4, 5, 7, 8, 10, 11, 13, 14, 16, 17, 19, 20, 22, 23, 25, 26, 28, 29, 31, 32, 34, 35, 37, 38, 40, 41, 43, 44, 46, 47, 49, 50, 52, 53, 55, 56, 58, 59, 61, 62, 64, 65, 67, 68, 70, 71, 73, 74, 76, 77, 79, 80, 82, 83, 85, 86, 88, 89, 91, 92, 94, 95, 97, 98, 100, 101, 103, 104, 106, 107, 109, 110, 112, 113, 115, 116, 118, 119, 121, 122, 124, 125, 127, 128, 130, 131, 133, 134, 136, 137, 139, 140, 142, 143, 145, 146, 148, 149, 151, 152, 154, 155, 157, 158, 160, 161, 163, 164, 166, 167, 169, 170, 172, 173, 175, 176, 178, 179, 181, 182, 184, 185, 187, 188, 190, 191, 193, 194, 196, 197, 199, 200, 202, 203, 205, 206, 208]\n",
            "[0, 2, 3, 5, 6, 8, 9, 11, 12, 14, 15, 17, 18, 20, 21, 23, 24, 26, 27, 29, 30, 32, 33, 35, 36, 38, 39, 41, 42, 44, 45, 47, 48, 50, 51, 53, 54, 56, 57, 59, 60, 62, 63, 65, 66, 68, 69, 71, 72, 74, 75, 77, 78, 80, 81, 83, 84, 86, 87, 89, 90, 92, 93, 95, 96, 98, 99, 101, 102, 104, 105, 107, 108, 110, 111, 113, 114, 116, 117, 119, 120, 122, 123, 125, 126, 128, 129, 131, 132, 134, 135, 137, 138, 140, 141, 143, 144, 146, 147, 149, 150, 152, 153, 155, 156, 158, 159, 161, 162, 164, 165, 167, 168, 170, 171, 173, 174, 176, 177, 179, 180, 182, 183, 185, 186, 188, 189, 191, 192, 194, 195, 197, 198, 200, 201, 203, 204, 206, 207]\n",
            "[0, 1, 3, 4, 6, 7, 9, 10, 12, 13, 15, 16, 18, 19, 21, 22, 24, 25, 27, 28, 30, 31, 33, 34, 36, 37, 39, 40, 42, 43, 45, 46, 48, 49, 51, 52, 54, 55, 57, 58, 60, 61, 63, 64, 66, 67, 69, 70, 72, 73, 75, 76, 78, 79, 81, 82, 84, 85, 87, 88, 90, 91, 93, 94, 96, 97, 99, 100, 102, 103, 105, 106, 108, 109, 111, 112, 114, 115, 117, 118, 120, 121, 123, 124, 126, 127, 129, 130, 132, 133, 135, 136, 138, 139, 141, 142, 144, 145, 147, 148, 150, 151, 153, 154, 156, 157, 159, 160, 162, 163, 165, 166, 168, 169, 171, 172, 174, 175, 177, 178, 180, 181, 183, 184, 186, 187, 189, 190, 192, 193, 195, 196, 198, 199, 201, 202, 204, 205, 207, 208]\n",
            "[0, 2, 4, 6, 8, 10, 12, 14, 16, 18, 20, 22, 24, 26, 28, 30, 32, 34, 36, 38, 40, 42, 44, 46, 48, 50, 52, 54, 56, 58, 60, 62, 64, 66, 68, 70, 72, 74, 76, 78, 80, 82, 84, 86, 88, 90, 92, 94, 96, 98]\n",
            "[1, 3, 5, 7, 9, 11, 13, 15, 17, 19, 21, 23, 25, 27, 29, 31, 33, 35, 37, 39, 41, 43, 45, 47, 49, 51, 53, 55, 57, 59, 61, 63, 65, 67, 69, 71, 73, 75, 77, 79, 81, 83, 85, 87, 89, 91, 93, 95, 97, 99]\n",
            "[1, 2, 4, 5, 7, 8, 10, 11, 13, 14, 16, 17, 19, 20, 22, 23, 25, 26, 28, 29, 31, 32, 34, 35, 37, 38, 40, 41, 43, 44, 46, 47, 49, 50, 52, 53, 55, 56, 58, 59, 61, 62, 64, 65, 67, 68, 70, 71, 73, 74, 76, 77, 79, 80, 82, 83, 85, 86, 88, 89, 91, 92, 94, 95, 97, 98, 100, 101, 103, 104, 106, 107, 109, 110, 112, 113, 115, 116, 118, 119, 121, 122, 124, 125, 127, 128, 130, 131, 133, 134, 136, 137, 139, 140, 142, 143, 145, 146, 148, 149, 151, 152, 154, 155, 157, 158, 160, 161, 163, 164, 166, 167, 169, 170, 172, 173, 175, 176, 178, 179, 181, 182, 184, 185, 187, 188, 190, 191, 193, 194, 196, 197, 199, 200, 202, 203, 205, 206, 208, 209, 211, 212]\n",
            "[0, 2, 3, 5, 6, 8, 9, 11, 12, 14, 15, 17, 18, 20, 21, 23, 24, 26, 27, 29, 30, 32, 33, 35, 36, 38, 39, 41, 42, 44, 45, 47, 48, 50, 51, 53, 54, 56, 57, 59, 60, 62, 63, 65, 66, 68, 69, 71, 72, 74, 75, 77, 78, 80, 81, 83, 84, 86, 87, 89, 90, 92, 93, 95, 96, 98, 99, 101, 102, 104, 105, 107, 108, 110, 111, 113, 114, 116, 117, 119, 120, 122, 123, 125, 126, 128, 129, 131, 132, 134, 135, 137, 138, 140, 141, 143, 144, 146, 147, 149, 150, 152, 153, 155, 156, 158, 159, 161, 162, 164, 165, 167, 168, 170, 171, 173, 174, 176, 177, 179, 180, 182, 183, 185, 186, 188, 189, 191, 192, 194, 195, 197, 198, 200, 201, 203, 204, 206, 207, 209, 210, 212]\n",
            "[0, 1, 3, 4, 6, 7, 9, 10, 12, 13, 15, 16, 18, 19, 21, 22, 24, 25, 27, 28, 30, 31, 33, 34, 36, 37, 39, 40, 42, 43, 45, 46, 48, 49, 51, 52, 54, 55, 57, 58, 60, 61, 63, 64, 66, 67, 69, 70, 72, 73, 75, 76, 78, 79, 81, 82, 84, 85, 87, 88, 90, 91, 93, 94, 96, 97, 99, 100, 102, 103, 105, 106, 108, 109, 111, 112, 114, 115, 117, 118, 120, 121, 123, 124, 126, 127, 129, 130, 132, 133, 135, 136, 138, 139, 141, 142, 144, 145, 147, 148, 150, 151, 153, 154, 156, 157, 159, 160, 162, 163, 165, 166, 168, 169, 171, 172, 174, 175, 177, 178, 180, 181, 183, 184, 186, 187, 189, 190, 192, 193, 195, 196, 198, 199, 201, 202, 204, 205, 207, 208, 210, 211]\n",
            "[0, 2, 4, 6, 8, 10, 12, 14, 16, 18, 20, 22, 24, 26, 28, 30, 32, 34, 36, 38, 40, 42, 44, 46, 48, 50, 52, 54, 56, 58, 60, 62, 64, 66, 68, 70, 72, 74, 76, 78, 80, 82, 84, 86, 88, 90, 92, 94, 96, 98, 100, 102, 104, 106, 108, 110, 112, 114]\n",
            "[1, 3, 5, 7, 9, 11, 13, 15, 17, 19, 21, 23, 25, 27, 29, 31, 33, 35, 37, 39, 41, 43, 45, 47, 49, 51, 53, 55, 57, 59, 61, 63, 65, 67, 69, 71, 73, 75, 77, 79, 81, 83, 85, 87, 89, 91, 93, 95, 97, 99, 101, 103, 105, 107, 109, 111, 113]\n",
            "[1, 2, 4, 5, 7, 8, 10, 11, 13, 14, 16, 17, 19, 20, 22, 23, 25, 26, 28, 29, 31, 32, 34, 35, 37, 38, 40, 41, 43, 44, 46, 47, 49, 50, 52, 53, 55, 56, 58, 59, 61, 62, 64, 65, 67, 68, 70, 71, 73, 74, 76, 77, 79, 80, 82, 83, 85, 86, 88, 89, 91, 92, 94, 95, 97, 98, 100, 101, 103, 104, 106, 107, 109, 110, 112, 113, 115, 116, 118, 119, 121, 122, 124, 125, 127, 128, 130, 131, 133, 134, 136, 137, 139, 140, 142, 143, 145, 146, 148, 149, 151, 152, 154, 155, 157, 158, 160, 161, 163, 164, 166, 167, 169, 170, 172, 173, 175, 176, 178, 179, 181, 182, 184, 185, 187, 188, 190, 191, 193, 194, 196, 197, 199, 200, 202, 203, 205, 206, 208, 209, 211, 212, 214, 215, 217, 218]\n",
            "[0, 2, 3, 5, 6, 8, 9, 11, 12, 14, 15, 17, 18, 20, 21, 23, 24, 26, 27, 29, 30, 32, 33, 35, 36, 38, 39, 41, 42, 44, 45, 47, 48, 50, 51, 53, 54, 56, 57, 59, 60, 62, 63, 65, 66, 68, 69, 71, 72, 74, 75, 77, 78, 80, 81, 83, 84, 86, 87, 89, 90, 92, 93, 95, 96, 98, 99, 101, 102, 104, 105, 107, 108, 110, 111, 113, 114, 116, 117, 119, 120, 122, 123, 125, 126, 128, 129, 131, 132, 134, 135, 137, 138, 140, 141, 143, 144, 146, 147, 149, 150, 152, 153, 155, 156, 158, 159, 161, 162, 164, 165, 167, 168, 170, 171, 173, 174, 176, 177, 179, 180, 182, 183, 185, 186, 188, 189, 191, 192, 194, 195, 197, 198, 200, 201, 203, 204, 206, 207, 209, 210, 212, 213, 215, 216, 218, 219]\n",
            "[0, 1, 3, 4, 6, 7, 9, 10, 12, 13, 15, 16, 18, 19, 21, 22, 24, 25, 27, 28, 30, 31, 33, 34, 36, 37, 39, 40, 42, 43, 45, 46, 48, 49, 51, 52, 54, 55, 57, 58, 60, 61, 63, 64, 66, 67, 69, 70, 72, 73, 75, 76, 78, 79, 81, 82, 84, 85, 87, 88, 90, 91, 93, 94, 96, 97, 99, 100, 102, 103, 105, 106, 108, 109, 111, 112, 114, 115, 117, 118, 120, 121, 123, 124, 126, 127, 129, 130, 132, 133, 135, 136, 138, 139, 141, 142, 144, 145, 147, 148, 150, 151, 153, 154, 156, 157, 159, 160, 162, 163, 165, 166, 168, 169, 171, 172, 174, 175, 177, 178, 180, 181, 183, 184, 186, 187, 189, 190, 192, 193, 195, 196, 198, 199, 201, 202, 204, 205, 207, 208, 210, 211, 213, 214, 216, 217, 219]\n"
          ]
        }
      ],
      "source": [
        "# Run at the end, but do not modify - we will use this to asses your output.\n",
        "for c in CLASS_NAMES:\n",
        "    print(results[c])\n",
        "    s = pd.Series(results[c])\n",
        "    print(s.sort_values(ascending=False)[:10].index.tolist())\n",
        "    print(s.sort_values(ascending=True)[:10].index.tolist())\n",
        "\n",
        "def get_sorted_indices(loader):\n",
        "    loader.dataset.return_only_indices = True\n",
        "    indices = sorted([x.item() for x in loader])\n",
        "    loader.dataset.return_only_indices = False\n",
        "    return indices\n",
        "\n",
        "for c in CLASS_NAMES:\n",
        "    print(get_sorted_indices(dataloaders[c][\"val_dataloader\"]))\n",
        "    print(get_sorted_indices(dataloaders[c][\"test_dataloader\"]))\n",
        "    for v in dataloaders[c][\"train_dataloaders\"]:\n",
        "        print(get_sorted_indices(v))"
      ]
    },
    {
      "cell_type": "markdown",
      "metadata": {
        "id": "7RyD11CCyBBr"
      },
      "source": [
        "# Task 2. Improving PADIM with Online Covariance Estimation\n",
        "\n",
        "This implementation of PADIM can be improved in numerous ways. In this exercise, you'll try to indicate its shortcomings and provide some means to mitigate them.\n",
        "\n",
        "#### 2.1. PADIM's training complexity (15%)\n",
        "\n",
        "- Identify the key operations contributing to the algorithm's training space complexity *in this implementation*. Don't focus on the backbone, as it is not the part of the algorithm (however, its output is).\n",
        "- Shortly discuss the implications for scalability. You can support your claims by charts if needed.\n",
        "\n",
        "*Hint: this doesn't need to be super formal analysis - it's about fiding the \"worst\" parts of this implementation. You can support your claims with a chart and brief description (e.g. \"X dominates the complexity, as it's quadratic.\")*"
      ]
    },
    {
      "cell_type": "markdown",
      "metadata": {
        "id": "NnFgKMqfyBBr"
      },
      "source": [
        "```Your answer to task 2.1 goes here```\n",
        "\n",
        ">The space complexity of this implementation is dominated by storing embedding vectors for all training examples in the train_outputs dict.\n",
        "\n",
        ">The space complexity of the training procedure is linear to the number of training examples (as can be seen on the plot with no. of training examples vs memory peak). It is because embedding vectors for all pictures are collected and at the end, all of them are stored (and their number is linear to the number of training examples) to do mean and cov estimation.\n",
        "\n",
        "\n"
      ]
    },
    {
      "cell_type": "code",
      "execution_count": 28,
      "metadata": {
        "id": "U6gyIYacyBBr"
      },
      "outputs": [],
      "source": [
        "# Your code goes here (if needed)\n",
        "\n",
        "seed_all(SEED)\n",
        "class_name = 'bottle'\n",
        "BATCH_SIZE = 1\n",
        "RESIZE = 256 * 1\n",
        "CROP_SIZE = 224 * 1\n",
        "BACKBONE = \"resnet18\"\n",
        "NUMBER_OF_BACKBONE_FEATURES = 15\n",
        "MAX_NUMBER_OF_BACKBONE_FEATURES = 448\n",
        "# DEVICE=\"cpu\"\n",
        "\n",
        "indices = sample_idx(NUMBER_OF_BACKBONE_FEATURES, MAX_NUMBER_OF_BACKBONE_FEATURES).to(DEVICE)\n",
        "\n",
        "run_timestamp = time.time()\n",
        "SAVE_PATH = Path(f\"./results/{run_timestamp}/{class_name}\")\n",
        "\n",
        "train_dataset = MVTecDataset(DATA_PATH, class_name='bottle', is_train=True, resize=RESIZE, cropsize=CROP_SIZE)\n",
        "\n",
        "\n",
        "dataloaders_sizes = [10,20,30,40,50,60,70,80]\n",
        "dataloaders_diff_sizes = [DataLoader(train_dataset,\n",
        "            batch_size=BATCH_SIZE,\n",
        "            sampler=SubsetRandomSampler(sample(range(0, len(train_dataset)), n))) for n in dataloaders_sizes]\n",
        "\n",
        "n_backbone_features = [5,10,20,30,40]\n",
        "padim_diff_features_n = [PADIM(\n",
        "                            backbone=BACKBONE,\n",
        "                            device=DEVICE,\n",
        "                            backbone_features_idx=sample_idx(n, MAX_NUMBER_OF_BACKBONE_FEATURES).to(DEVICE),\n",
        "                            save_path=SAVE_PATH,\n",
        "                            plot_metrics=True,\n",
        "                            ) for n in n_backbone_features]\n",
        "\n",
        "batch_sizes = [1,2,3,4,5]\n",
        "dataloaders_diff_batch_sizes = [DataLoader(train_dataset, batch_size=b, pin_memory=True) for b in batch_sizes]\n",
        "\n",
        "padim = PADIM(\n",
        "    backbone=BACKBONE,\n",
        "    device=DEVICE,\n",
        "    backbone_features_idx=indices,\n",
        "    save_path=SAVE_PATH,\n",
        "    plot_metrics=True,\n",
        ")\n",
        "\n",
        "# padim.train(train_dataloader)\n"
      ]
    },
    {
      "cell_type": "code",
      "source": [
        "!pip install memory-profiler --quiet\n",
        "%load_ext memory_profiler"
      ],
      "metadata": {
        "id": "5_ap_n4ch1nq"
      },
      "execution_count": 14,
      "outputs": []
    },
    {
      "cell_type": "code",
      "source": [
        "# experiments with dataset size\n",
        "\n",
        "dataset_sizes_memit = []\n",
        "# batches_timeit = {\"online\":[],\"offline\":[]}\n",
        "for d in dataloaders_diff_sizes:\n",
        "    mem_offline = %memit -o padim.train(d)\n",
        "    dataset_sizes_memit.append(float(str(mem_offline).split(\" \")[2]))"
      ],
      "metadata": {
        "colab": {
          "base_uri": "https://localhost:8080/"
        },
        "id": "3s-qKF6nhNAV",
        "outputId": "e9a731c3-49d6-48a0-8495-1eeb67d33e24"
      },
      "execution_count": 21,
      "outputs": [
        {
          "output_type": "stream",
          "name": "stderr",
          "text": [
            "Feature extraction (train): 100%|██████████| 10/10 [00:01<00:00,  6.86it/s]\n",
            "Covariance estimation: 100%|██████████| 3136/3136 [00:00<00:00, 10458.65it/s]\n"
          ]
        },
        {
          "output_type": "stream",
          "name": "stdout",
          "text": [
            "peak memory: 1260.75 MiB, increment: 53.66 MiB\n"
          ]
        },
        {
          "output_type": "stream",
          "name": "stderr",
          "text": [
            "Feature extraction (train): 100%|██████████| 20/20 [00:03<00:00,  5.47it/s]\n",
            "Covariance estimation: 100%|██████████| 3136/3136 [00:00<00:00, 9560.25it/s]\n"
          ]
        },
        {
          "output_type": "stream",
          "name": "stdout",
          "text": [
            "peak memory: 1399.17 MiB, increment: 192.02 MiB\n"
          ]
        },
        {
          "output_type": "stream",
          "name": "stderr",
          "text": [
            "Feature extraction (train): 100%|██████████| 30/30 [00:04<00:00,  6.82it/s]\n",
            "Covariance estimation: 100%|██████████| 3136/3136 [00:00<00:00, 9011.10it/s]\n"
          ]
        },
        {
          "output_type": "stream",
          "name": "stdout",
          "text": [
            "peak memory: 1573.16 MiB, increment: 365.99 MiB\n"
          ]
        },
        {
          "output_type": "stream",
          "name": "stderr",
          "text": [
            "Feature extraction (train): 100%|██████████| 40/40 [00:06<00:00,  6.11it/s]\n",
            "Covariance estimation: 100%|██████████| 3136/3136 [00:00<00:00, 8590.18it/s]\n"
          ]
        },
        {
          "output_type": "stream",
          "name": "stdout",
          "text": [
            "peak memory: 1737.30 MiB, increment: 530.11 MiB\n"
          ]
        },
        {
          "output_type": "stream",
          "name": "stderr",
          "text": [
            "Feature extraction (train): 100%|██████████| 50/50 [00:06<00:00,  7.35it/s]\n",
            "Covariance estimation: 100%|██████████| 3136/3136 [00:00<00:00, 5854.89it/s]\n"
          ]
        },
        {
          "output_type": "stream",
          "name": "stdout",
          "text": [
            "peak memory: 1943.52 MiB, increment: 691.37 MiB\n"
          ]
        },
        {
          "output_type": "stream",
          "name": "stderr",
          "text": [
            "Feature extraction (train): 100%|██████████| 60/60 [00:08<00:00,  7.02it/s]\n",
            "Covariance estimation: 100%|██████████| 3136/3136 [00:00<00:00, 7321.81it/s]\n"
          ]
        },
        {
          "output_type": "stream",
          "name": "stdout",
          "text": [
            "peak memory: 2102.10 MiB, increment: 918.73 MiB\n"
          ]
        },
        {
          "output_type": "stream",
          "name": "stderr",
          "text": [
            "Feature extraction (train): 100%|██████████| 70/70 [00:10<00:00,  6.59it/s]\n",
            "Covariance estimation: 100%|██████████| 3136/3136 [00:00<00:00, 6792.02it/s]\n"
          ]
        },
        {
          "output_type": "stream",
          "name": "stdout",
          "text": [
            "peak memory: 2232.57 MiB, increment: 1049.20 MiB\n"
          ]
        },
        {
          "output_type": "stream",
          "name": "stderr",
          "text": [
            "Feature extraction (train): 100%|██████████| 80/80 [00:11<00:00,  6.75it/s]\n",
            "Covariance estimation: 100%|██████████| 3136/3136 [00:00<00:00, 4768.30it/s]\n"
          ]
        },
        {
          "output_type": "stream",
          "name": "stdout",
          "text": [
            "peak memory: 2401.98 MiB, increment: 1218.61 MiB\n"
          ]
        }
      ]
    },
    {
      "cell_type": "code",
      "source": [
        "print(dataloaders_sizes)\n",
        "print(dataset_sizes_memit)\n",
        "\n",
        "plt.plot(dataloaders_sizes,dataset_sizes_memit)\n",
        "plt.ylabel('memory peak')\n",
        "plt.xlabel('no. of training examples')"
      ],
      "metadata": {
        "colab": {
          "base_uri": "https://localhost:8080/",
          "height": 501
        },
        "id": "O19M154Nn5N7",
        "outputId": "a8fb030e-7147-46c9-c193-aeffb35efbd3"
      },
      "execution_count": 23,
      "outputs": [
        {
          "output_type": "stream",
          "name": "stdout",
          "text": [
            "[10, 20, 30, 40, 50, 60, 70, 80]\n",
            "[1260.75, 1399.17, 1573.16, 1737.3, 1943.52, 2102.1, 2232.57, 2401.98]\n"
          ]
        },
        {
          "output_type": "execute_result",
          "data": {
            "text/plain": [
              "Text(0.5, 0, 'no. of training examples')"
            ]
          },
          "metadata": {},
          "execution_count": 23
        },
        {
          "output_type": "display_data",
          "data": {
            "text/plain": [
              "<Figure size 640x480 with 1 Axes>"
            ],
            "image/png": "[encoded data removed]"
          },
          "metadata": {}
        }
      ]
    },
    {
      "cell_type": "code",
      "source": [
        "# experiment with different feature numbers\n",
        "feature_numbers_memit = []\n",
        "for model in padim_diff_features_n:\n",
        "    mem_offline = %memit -o model.train(dataloaders_diff_sizes[3])\n",
        "    feature_numbers_memit.append(float(str(mem_offline).split(\" \")[2]))\n",
        "\n",
        "print(n_backbone_features)\n",
        "print(feature_numbers_memit)\n",
        "\n",
        "plt.plot(n_backbone_features,feature_numbers_memit)\n",
        "plt.ylabel('memory peak')\n",
        "plt.xlabel('no. of backbone features')"
      ],
      "metadata": {
        "colab": {
          "base_uri": "https://localhost:8080/",
          "height": 761
        },
        "id": "OnV2LgwEp8gT",
        "outputId": "1541e21e-f3f4-4e57-8c23-2bf826a45b6e"
      },
      "execution_count": 25,
      "outputs": [
        {
          "output_type": "stream",
          "name": "stderr",
          "text": [
            "Feature extraction (train): 100%|██████████| 40/40 [00:05<00:00,  7.04it/s]\n",
            "Covariance estimation: 100%|██████████| 3136/3136 [00:00<00:00, 7568.44it/s]\n"
          ]
        },
        {
          "output_type": "stream",
          "name": "stdout",
          "text": [
            "peak memory: 1891.03 MiB, increment: 687.26 MiB\n"
          ]
        },
        {
          "output_type": "stream",
          "name": "stderr",
          "text": [
            "Feature extraction (train): 100%|██████████| 40/40 [00:05<00:00,  7.07it/s]\n",
            "Covariance estimation: 100%|██████████| 3136/3136 [00:00<00:00, 10050.68it/s]\n"
          ]
        },
        {
          "output_type": "stream",
          "name": "stdout",
          "text": [
            "peak memory: 1927.45 MiB, increment: 627.41 MiB\n"
          ]
        },
        {
          "output_type": "stream",
          "name": "stderr",
          "text": [
            "Feature extraction (train): 100%|██████████| 40/40 [00:06<00:00,  6.02it/s]\n",
            "Covariance estimation: 100%|██████████| 3136/3136 [00:00<00:00, 7250.77it/s]\n"
          ]
        },
        {
          "output_type": "stream",
          "name": "stdout",
          "text": [
            "peak memory: 1951.94 MiB, increment: 615.52 MiB\n"
          ]
        },
        {
          "output_type": "stream",
          "name": "stderr",
          "text": [
            "Feature extraction (train): 100%|██████████| 40/40 [00:05<00:00,  7.39it/s]\n",
            "Covariance estimation: 100%|██████████| 3136/3136 [00:00<00:00, 5680.81it/s]\n"
          ]
        },
        {
          "output_type": "stream",
          "name": "stdout",
          "text": [
            "peak memory: 1963.83 MiB, increment: 604.44 MiB\n"
          ]
        },
        {
          "output_type": "stream",
          "name": "stderr",
          "text": [
            "Feature extraction (train): 100%|██████████| 40/40 [00:06<00:00,  6.08it/s]\n",
            "Covariance estimation: 100%|██████████| 3136/3136 [00:00<00:00, 4641.91it/s]\n"
          ]
        },
        {
          "output_type": "stream",
          "name": "stdout",
          "text": [
            "peak memory: 1971.81 MiB, increment: 599.02 MiB\n",
            "[5, 10, 20, 30, 40]\n",
            "[1891.03, 1927.45, 1951.94, 1963.83, 1971.81]\n"
          ]
        },
        {
          "output_type": "execute_result",
          "data": {
            "text/plain": [
              "Text(0.5, 0, 'no. of backbone features')"
            ]
          },
          "metadata": {},
          "execution_count": 25
        },
        {
          "output_type": "display_data",
          "data": {
            "text/plain": [
              "<Figure size 640x480 with 1 Axes>"
            ],
            "image/png": "[encoded data removed]"
          },
          "metadata": {}
        }
      ]
    },
    {
      "cell_type": "code",
      "source": [
        "# experiment with different batch size\n",
        "batch_sizes_memit = []\n",
        "# batches_timeit = {\"online\":[],\"offline\":[]}\n",
        "for d in dataloaders_diff_batch_sizes:\n",
        "    mem_offline = %memit -o padim.train(d)\n",
        "    batch_sizes_memit.append(float(str(mem_offline).split(\" \")[2]))\n",
        "\n",
        "print(batch_sizes)\n",
        "print(batch_sizes_memit)\n",
        "\n",
        "plt.plot(batch_sizes,batch_sizes_memit)\n",
        "plt.ylabel('memory peak')\n",
        "plt.xlabel('batch size')"
      ],
      "metadata": {
        "colab": {
          "base_uri": "https://localhost:8080/",
          "height": 761
        },
        "id": "w1MyARg5rahj",
        "outputId": "94ef66d1-89d0-448f-9a03-b28a17d4bf4a"
      },
      "execution_count": 30,
      "outputs": [
        {
          "output_type": "stream",
          "name": "stderr",
          "text": [
            "Feature extraction (train): 100%|██████████| 209/209 [00:40<00:00,  5.14it/s]\n",
            "Covariance estimation: 100%|██████████| 3136/3136 [00:00<00:00, 4701.08it/s]\n"
          ]
        },
        {
          "output_type": "stream",
          "name": "stdout",
          "text": [
            "peak memory: 5100.86 MiB, increment: 3248.73 MiB\n"
          ]
        },
        {
          "output_type": "stream",
          "name": "stderr",
          "text": [
            "Feature extraction (train): 100%|██████████| 105/105 [00:33<00:00,  3.11it/s]\n",
            "Covariance estimation: 100%|██████████| 3136/3136 [00:00<00:00, 4784.63it/s]\n"
          ]
        },
        {
          "output_type": "stream",
          "name": "stdout",
          "text": [
            "peak memory: 5094.93 MiB, increment: 3242.78 MiB\n"
          ]
        },
        {
          "output_type": "stream",
          "name": "stderr",
          "text": [
            "Feature extraction (train): 100%|██████████| 70/70 [00:27<00:00,  2.51it/s]\n",
            "Covariance estimation: 100%|██████████| 3136/3136 [00:00<00:00, 4776.27it/s]\n"
          ]
        },
        {
          "output_type": "stream",
          "name": "stdout",
          "text": [
            "peak memory: 5116.33 MiB, increment: 3264.18 MiB\n"
          ]
        },
        {
          "output_type": "stream",
          "name": "stderr",
          "text": [
            "Feature extraction (train): 100%|██████████| 53/53 [00:28<00:00,  1.87it/s]\n",
            "Covariance estimation: 100%|██████████| 3136/3136 [00:00<00:00, 3496.80it/s]\n"
          ]
        },
        {
          "output_type": "stream",
          "name": "stdout",
          "text": [
            "peak memory: 5111.53 MiB, increment: 3259.38 MiB\n"
          ]
        },
        {
          "output_type": "stream",
          "name": "stderr",
          "text": [
            "Feature extraction (train): 100%|██████████| 42/42 [00:27<00:00,  1.53it/s]\n",
            "Covariance estimation: 100%|██████████| 3136/3136 [00:00<00:00, 4621.09it/s]\n"
          ]
        },
        {
          "output_type": "stream",
          "name": "stdout",
          "text": [
            "peak memory: 5129.86 MiB, increment: 3277.61 MiB\n",
            "[1, 2, 3, 4, 5]\n",
            "[5100.86, 5094.93, 5116.33, 5111.53, 5129.86]\n"
          ]
        },
        {
          "output_type": "execute_result",
          "data": {
            "text/plain": [
              "Text(0.5, 0, 'batch size')"
            ]
          },
          "metadata": {},
          "execution_count": 30
        },
        {
          "output_type": "display_data",
          "data": {
            "text/plain": [
              "<Figure size 640x480 with 1 Axes>"
            ],
            "image/png": "[encoded data removed]"
          },
          "metadata": {}
        }
      ]
    },
    {
      "cell_type": "markdown",
      "metadata": {
        "id": "xRg4jBY6yBBr"
      },
      "source": [
        "#### 2.2 Online mean and covariance (35%)\n",
        "Implement a PyTorch version of [online covariance matrix estimation](https://en.wikipedia.org/wiki/Algorithms_for_calculating_variance#Online) in the training as an alternative to the current method in PADIM.\n",
        "Calculate the mean in an online fashion as well.\n",
        "Your implementation shall run on the selected `torch.device` (such as GPU).\n",
        "No need to reimplement the testing routine to online in this exercise (although it'd be nice to have for Task 1), albeit small changes might be necessary (such as conversion from `torch.Tensor` to `np.ndarray`).\n",
        "\n",
        "Passing criteria:\n",
        "```python\n",
        "torch.allclose(padim_online.mean, torch.Tensor(padim_offline.mean).to(DEVICE), atol=0.01)\n",
        "torch.allclose(padim_online.cov, torch.Tensor(padim_offline.cov).to(DEVICE), atol=0.01)\n",
        "```\n"
      ]
    },
    {
      "cell_type": "code",
      "execution_count": 11,
      "metadata": {
        "id": "KAOTGn6ayBBr"
      },
      "outputs": [],
      "source": [
        "class PADIMWithOnlineCovariance(PADIM):\n",
        "\n",
        "    ### TODO: Your code goes here\n",
        "    def __init__(\n",
        "            self,\n",
        "            backbone: str,\n",
        "            device: torch.device,\n",
        "            save_path: Path,\n",
        "            backbone_features_idx: List[int],\n",
        "            class_names=...,\n",
        "            plot_metrics=False,\n",
        "            ) -> None:\n",
        "        super().__init__(backbone, device, save_path, backbone_features_idx, class_names, plot_metrics)\n",
        "\n",
        "    def train(self, train_dataloader: DataLoader, C: int, H: int, W: int):\n",
        "        \"\"\"C, H, W come from the size of embeddings: [B, C, H, W]\"\"\"\n",
        "\n",
        "        mean = torch.zeros(C, H * W).to(DEVICE)\n",
        "        cov = torch.zeros(C, C, H * W).to(DEVICE)\n",
        "        I = torch.eye(C).to(DEVICE)\n",
        "        n=0\n",
        "\n",
        "        for x, _, _ in train_dataloader:\n",
        "            # Run model prediction.\n",
        "            with torch.no_grad():\n",
        "                _ = self.model(x.to(DEVICE))\n",
        "            # Get intermediate layer outputs.\n",
        "            assert list(self.outputs.keys())  == ['layer1', 'layer2', 'layer3'], list(self.outputs.keys())\n",
        "            embedding_vectors = concatenate_embeddings_from_all_layers(\n",
        "                {k: torch.cat([v], 0) for k, v in self.outputs.items()})\n",
        "            embedding_vectors_subset = torch.index_select(embedding_vectors, 1, self.feature_subset_indices)\n",
        "\n",
        "            B=x.size()[0]\n",
        "            embedding_vectors_subset = embedding_vectors_subset.view(B, C, H * W).to(DEVICE)\n",
        "\n",
        "            for b in range(B):\n",
        "                n += 1\n",
        "                for i in range(H * W):\n",
        "                    dx = (embedding_vectors_subset[b,:,i] -  mean[:,i])\n",
        "                    mean[:,i] += dx/n\n",
        "                    y = embedding_vectors_subset[b,:,i]-mean[:,i]\n",
        "                    cov[:,:,i] += torch.matmul(torch.t(dx.view(1,C)),y.view(1,C))\n",
        "\n",
        "            # Reset hook outputs.\n",
        "            self.outputs = {}\n",
        "\n",
        "        cov = cov/(n-1)\n",
        "        for i in range(H * W):\n",
        "            cov[:, :, i] += 0.01 * I\n",
        "        self.mean, self.cov = mean, cov\n",
        "\n",
        "    ### END OF YOUR CODE\n"
      ]
    },
    {
      "cell_type": "code",
      "execution_count": null,
      "metadata": {
        "id": "9GYit0npyBBr",
        "colab": {
          "base_uri": "https://localhost:8080/"
        },
        "outputId": "c92444e2-698b-432c-bcfa-5420e510dd24"
      },
      "outputs": [
        {
          "output_type": "stream",
          "name": "stderr",
          "text": [
            "Feature extraction (train): 100%|██████████| 209/209 [00:10<00:00, 20.64it/s]\n",
            "Covariance estimation: 100%|██████████| 3136/3136 [00:01<00:00, 1732.66it/s]\n"
          ]
        },
        {
          "output_type": "execute_result",
          "data": {
            "text/plain": [
              "True"
            ]
          },
          "metadata": {},
          "execution_count": 20
        }
      ],
      "source": [
        "# do not modify\n",
        "seed_all(SEED)\n",
        "class_name = 'bottle'\n",
        "BATCH_SIZE = 1\n",
        "RESIZE = 256 * 1\n",
        "CROP_SIZE = 224 * 1\n",
        "BACKBONE = \"resnet18\"\n",
        "NUMBER_OF_BACKBONE_FEATURES = 30\n",
        "MAX_NUMBER_OF_BACKBONE_FEATURES = 448\n",
        "# DEVICE=\"cpu\"\n",
        "\n",
        "indices = sample_idx(NUMBER_OF_BACKBONE_FEATURES, MAX_NUMBER_OF_BACKBONE_FEATURES).to(DEVICE)\n",
        "\n",
        "run_timestamp = time.time()\n",
        "SAVE_PATH = Path(f\"./results/{run_timestamp}/{class_name}\")\n",
        "\n",
        "train_dataset = MVTecDataset(DATA_PATH, class_name=class_name, is_train=True, resize=RESIZE, cropsize=CROP_SIZE)\n",
        "train_dataloader = DataLoader(train_dataset, batch_size=BATCH_SIZE, pin_memory=True)\n",
        "test_dataset = MVTecDataset(DATA_PATH, class_name=class_name, is_train=False, resize=RESIZE, cropsize=CROP_SIZE)\n",
        "val_dataloader = DataLoader(test_dataset, batch_size=BATCH_SIZE, pin_memory=True)\n",
        "\n",
        "\n",
        "padim_offline = PADIM(\n",
        "    backbone=BACKBONE,\n",
        "    device=DEVICE,\n",
        "    backbone_features_idx=indices,\n",
        "    save_path=SAVE_PATH,\n",
        "    plot_metrics=True,\n",
        ")\n",
        "padim_offline.train(train_dataloader)\n",
        "\n",
        "padim_online = PADIMWithOnlineCovariance(\n",
        "    backbone=BACKBONE,\n",
        "    device=DEVICE,\n",
        "    backbone_features_idx=indices,\n",
        "    save_path=SAVE_PATH,\n",
        "    plot_metrics=True,\n",
        ")\n",
        "padim_online.train(train_dataloader, NUMBER_OF_BACKBONE_FEATURES, int(CROP_SIZE/4), int(CROP_SIZE/4))\n",
        "\n",
        "torch.allclose(padim_online.mean, torch.Tensor(padim_offline.mean).to(DEVICE), atol=0.01) and torch.allclose(padim_online.cov, torch.Tensor(padim_offline.cov).to(DEVICE), atol=0.01)"
      ]
    },
    {
      "cell_type": "markdown",
      "metadata": {
        "id": "cm13YJvCyBBt"
      },
      "source": [
        "#### 2.3 Performance experiments (10%)\n",
        "If you completed task 2.2, design experiments to empirically compare `space/memory` performance of PADIM training with both traditional and online covariance matrix estimation. Write short conclusions.\n",
        "\n",
        "#### 2.4 Bonus task (optional)\n",
        "You can also add similar experiments with conclusions with regard to the `time` complexity. This task is optional, but if you'll loose points elsewhere, this can help you to make up for some of them."
      ]
    },
    {
      "cell_type": "code",
      "source": [
        "!pip install memory-profiler --quiet\n",
        "%load_ext memory_profiler\n"
      ],
      "metadata": {
        "id": "K9hC9tr79t3H"
      },
      "execution_count": 12,
      "outputs": []
    },
    {
      "cell_type": "code",
      "source": [
        "import timeit\n"
      ],
      "metadata": {
        "id": "niPhvdSLAU6w"
      },
      "execution_count": 13,
      "outputs": []
    },
    {
      "cell_type": "code",
      "execution_count": 14,
      "metadata": {
        "id": "z0bsQ32vyBBt",
        "colab": {
          "base_uri": "https://localhost:8080/"
        },
        "outputId": "439589fd-4d07-44f0-ab8d-629b7652c790"
      },
      "outputs": [
        {
          "output_type": "stream",
          "name": "stderr",
          "text": [
            "Downloading: \"https://download.pytorch.org/models/resnet18-f37072fd.pth\" to /root/.cache/torch/hub/checkpoints/resnet18-f37072fd.pth\n",
            "100%|██████████| 44.7M/44.7M [00:00<00:00, 48.4MB/s]\n"
          ]
        }
      ],
      "source": [
        "# Your code goes here\n",
        "\n",
        "seed_all(SEED)\n",
        "class_name = 'bottle'\n",
        "BATCH_SIZE = 1\n",
        "RESIZE = 256 * 1\n",
        "CROP_SIZE = 224 * 1\n",
        "BACKBONE = \"resnet18\"\n",
        "NUMBER_OF_BACKBONE_FEATURES = 15\n",
        "MAX_NUMBER_OF_BACKBONE_FEATURES = 448\n",
        "# DEVICE=\"cpu\"\n",
        "\n",
        "indices = sample_idx(NUMBER_OF_BACKBONE_FEATURES, MAX_NUMBER_OF_BACKBONE_FEATURES).to(DEVICE)\n",
        "\n",
        "run_timestamp = time.time()\n",
        "SAVE_PATH = Path(f\"./results/{run_timestamp}/{class_name}\")\n",
        "\n",
        "train_dataset = MVTecDataset(DATA_PATH, class_name='bottle', is_train=True, resize=RESIZE, cropsize=CROP_SIZE)\n",
        "\n",
        "dataloaders_sizes = [10,20,30,40,50,60,70,80]\n",
        "dataloaders_diff_sizes = [DataLoader(train_dataset,\n",
        "            batch_size=BATCH_SIZE,\n",
        "            sampler=SubsetRandomSampler(sample(range(0, len(train_dataset)), n))) for n in dataloaders_sizes]\n",
        "\n",
        "n_backbone_features = [5,10,20,30]\n",
        "padim_offline_diff_features_n = [PADIM(\n",
        "                                backbone=BACKBONE,\n",
        "                                device=DEVICE,\n",
        "                                backbone_features_idx=sample_idx(n, MAX_NUMBER_OF_BACKBONE_FEATURES).to(DEVICE),\n",
        "                                save_path=SAVE_PATH,\n",
        "                                plot_metrics=True,\n",
        "                                ) for n in n_backbone_features]\n",
        "\n",
        "padim_online_diff_features_n = [PADIMWithOnlineCovariance(\n",
        "                                backbone=BACKBONE,\n",
        "                                device=DEVICE,\n",
        "                                backbone_features_idx=sample_idx(n, MAX_NUMBER_OF_BACKBONE_FEATURES).to(DEVICE),\n",
        "                                save_path=SAVE_PATH,\n",
        "                                plot_metrics=True,\n",
        "                                ) for n in n_backbone_features]\n",
        "\n",
        "\n",
        "batch_sizes = [1,2,3,4,5]\n",
        "\n",
        "sampler_30 = SubsetRandomSampler(sample(range(0, len(train_dataset)), 30))\n",
        "dataloaders_diff_batch_sizes = [DataLoader(train_dataset, batch_size=b, sampler=sampler_30) for b in batch_sizes]\n",
        "\n",
        "train_dataloader = dataloaders_diff_sizes[3]\n",
        "\n",
        "padim_offline = PADIM(\n",
        "    backbone=BACKBONE,\n",
        "    device=DEVICE,\n",
        "    backbone_features_idx=indices,\n",
        "    save_path=SAVE_PATH,\n",
        "    plot_metrics=True,\n",
        ")\n",
        "# padim_offline.train(train_dataloader)\n",
        "\n",
        "padim_online = PADIMWithOnlineCovariance(\n",
        "    backbone=BACKBONE,\n",
        "    device=DEVICE,\n",
        "    backbone_features_idx=indices,\n",
        "    save_path=SAVE_PATH,\n",
        "    plot_metrics=True,\n",
        ")\n",
        "# padim_online.train(train_dataloader, NUMBER_OF_BACKBONE_FEATURES, int(CROP_SIZE/4), int(CROP_SIZE/4))"
      ]
    },
    {
      "cell_type": "markdown",
      "source": [
        "## Memory experiments"
      ],
      "metadata": {
        "id": "hUPdN6J9-TRh"
      }
    },
    {
      "cell_type": "code",
      "source": [
        "# experiments with dataset size\n",
        "\n",
        "dataset_sizes_memit_online = []\n",
        "dataset_sizes_memit_offline = []\n",
        "\n",
        "# batches_timeit = {\"online\":[],\"offline\":[]}\n",
        "for d in dataloaders_diff_sizes:\n",
        "    mem_offline = %memit -o padim_offline.train(d)\n",
        "    dataset_sizes_memit_offline.append(float(str(mem_offline).split(\" \")[2]))\n",
        "    mem_online = %memit -o padim_online.train(d, NUMBER_OF_BACKBONE_FEATURES, int(CROP_SIZE/4), int(CROP_SIZE/4))\n",
        "    dataset_sizes_memit_online.append(float(str(mem_online).split(\" \")[2]))\n",
        "\n",
        "print(dataloaders_sizes)\n",
        "print(dataset_sizes_memit_offline)\n",
        "print(dataset_sizes_memit_online)\n",
        "\n",
        "plt.plot(dataloaders_sizes,dataset_sizes_memit_offline, label=\"offline\")\n",
        "plt.plot(dataloaders_sizes,dataset_sizes_memit_online, label=\"online\")\n",
        "plt.legend()\n",
        "plt.ylabel('memory peak')\n",
        "plt.xlabel('no. of training examples')\n",
        "plt.show()"
      ],
      "metadata": {
        "colab": {
          "base_uri": "https://localhost:8080/",
          "height": 1000
        },
        "id": "E3LG2c-eyjp2",
        "outputId": "173ae42e-280a-422a-889e-0f11d46e6d30"
      },
      "execution_count": 19,
      "outputs": [
        {
          "output_type": "stream",
          "name": "stderr",
          "text": [
            "Feature extraction (train): 100%|██████████| 10/10 [00:01<00:00,  9.82it/s]\n",
            "Covariance estimation: 100%|██████████| 3136/3136 [00:00<00:00, 4505.07it/s]\n"
          ]
        },
        {
          "output_type": "stream",
          "name": "stdout",
          "text": [
            "peak memory: 1420.34 MiB, increment: 134.84 MiB\n",
            "peak memory: 1318.81 MiB, increment: 0.05 MiB\n"
          ]
        },
        {
          "output_type": "stream",
          "name": "stderr",
          "text": [
            "Feature extraction (train): 100%|██████████| 20/20 [00:00<00:00, 22.58it/s]\n",
            "Covariance estimation: 100%|██████████| 3136/3136 [00:00<00:00, 11144.12it/s]\n"
          ]
        },
        {
          "output_type": "stream",
          "name": "stdout",
          "text": [
            "peak memory: 1575.70 MiB, increment: 256.89 MiB\n",
            "peak memory: 1353.27 MiB, increment: 0.00 MiB\n"
          ]
        },
        {
          "output_type": "stream",
          "name": "stderr",
          "text": [
            "Feature extraction (train): 100%|██████████| 30/30 [00:01<00:00, 22.51it/s]\n",
            "Covariance estimation: 100%|██████████| 3136/3136 [00:00<00:00, 10466.81it/s]\n"
          ]
        },
        {
          "output_type": "stream",
          "name": "stdout",
          "text": [
            "peak memory: 1785.65 MiB, increment: 432.38 MiB\n",
            "peak memory: 1353.27 MiB, increment: 0.00 MiB\n"
          ]
        },
        {
          "output_type": "stream",
          "name": "stderr",
          "text": [
            "Feature extraction (train): 100%|██████████| 40/40 [00:01<00:00, 22.60it/s]\n",
            "Covariance estimation: 100%|██████████| 3136/3136 [00:00<00:00, 9794.46it/s]\n"
          ]
        },
        {
          "output_type": "stream",
          "name": "stdout",
          "text": [
            "peak memory: 2009.02 MiB, increment: 655.76 MiB\n",
            "peak memory: 1381.98 MiB, increment: 0.00 MiB\n"
          ]
        },
        {
          "output_type": "stream",
          "name": "stderr",
          "text": [
            "Feature extraction (train): 100%|██████████| 50/50 [00:02<00:00, 18.26it/s]\n",
            "Covariance estimation: 100%|██████████| 3136/3136 [00:00<00:00, 9014.49it/s]\n"
          ]
        },
        {
          "output_type": "stream",
          "name": "stdout",
          "text": [
            "peak memory: 2163.75 MiB, increment: 867.78 MiB\n",
            "peak memory: 1410.70 MiB, increment: 0.00 MiB\n"
          ]
        },
        {
          "output_type": "stream",
          "name": "stderr",
          "text": [
            "Feature extraction (train): 100%|██████████| 60/60 [00:02<00:00, 22.79it/s]\n",
            "Covariance estimation: 100%|██████████| 3136/3136 [00:00<00:00, 8803.00it/s]\n"
          ]
        },
        {
          "output_type": "stream",
          "name": "stdout",
          "text": [
            "peak memory: 2358.67 MiB, increment: 947.98 MiB\n",
            "peak memory: 1498.96 MiB, increment: 0.04 MiB\n"
          ]
        },
        {
          "output_type": "stream",
          "name": "stderr",
          "text": [
            "Feature extraction (train): 100%|██████████| 70/70 [00:03<00:00, 22.04it/s]\n",
            "Covariance estimation: 100%|██████████| 3136/3136 [00:00<00:00, 7578.11it/s]\n"
          ]
        },
        {
          "output_type": "stream",
          "name": "stdout",
          "text": [
            "peak memory: 2570.25 MiB, increment: 1174.34 MiB\n",
            "peak memory: 1489.57 MiB, increment: 0.00 MiB\n"
          ]
        },
        {
          "output_type": "stream",
          "name": "stderr",
          "text": [
            "Feature extraction (train): 100%|██████████| 80/80 [00:04<00:00, 19.68it/s]\n",
            "Covariance estimation: 100%|██████████| 3136/3136 [00:00<00:00, 7528.84it/s]\n"
          ]
        },
        {
          "output_type": "stream",
          "name": "stdout",
          "text": [
            "peak memory: 2806.67 MiB, increment: 1410.76 MiB\n",
            "peak memory: 1613.99 MiB, increment: 0.00 MiB\n",
            "[10, 20, 30, 40, 50, 60, 70, 80]\n",
            "[1420.34, 1575.7, 1785.65, 2009.02, 2163.75, 2358.67, 2570.25, 2806.67]\n",
            "[1318.81, 1353.27, 1353.27, 1381.98, 1410.7, 1498.96, 1489.57, 1613.99]\n"
          ]
        },
        {
          "output_type": "display_data",
          "data": {
            "text/plain": [
              "<Figure size 640x480 with 1 Axes>"
            ],
            "image/png": "[encoded data removed]"
          },
          "metadata": {}
        }
      ]
    },
    {
      "cell_type": "code",
      "source": [
        "# experiment with different feature numbers\n",
        "\n",
        "feature_numbers_memit_offline = []\n",
        "for model in padim_offline_diff_features_n:\n",
        "    mem_offline = %memit -o model.train(train_dataloader)\n",
        "    feature_numbers_memit_offline.append(float(str(mem_offline).split(\" \")[2]))\n",
        "\n",
        "feature_numbers_memit_online = []\n",
        "for model in padim_online_diff_features_n:\n",
        "    mem_online = %memit -o model.train(train_dataloader, len(model.feature_subset_indices), int(CROP_SIZE/4), int(CROP_SIZE/4))\n",
        "    feature_numbers_memit_online.append(float(str(mem_online).split(\" \")[2]))\n",
        "\n",
        "print(n_backbone_features)\n",
        "print(feature_numbers_memit_offline)\n",
        "print(feature_numbers_memit_online)\n",
        "\n",
        "plt.plot(n_backbone_features,feature_numbers_memit_offline, label=\"offline\")\n",
        "plt.plot(n_backbone_features,feature_numbers_memit_online, label=\"online\")\n",
        "plt.legend()\n",
        "plt.ylabel('memory peak')\n",
        "plt.xlabel('no. of backbone features')"
      ],
      "metadata": {
        "colab": {
          "base_uri": "https://localhost:8080/",
          "height": 796
        },
        "id": "9tTPUfVJ0bil",
        "outputId": "b04990bd-2ae7-4d13-ec3a-283f0c9780fe"
      },
      "execution_count": 40,
      "outputs": [
        {
          "output_type": "stream",
          "name": "stderr",
          "text": [
            "Feature extraction (train): 100%|██████████| 40/40 [00:01<00:00, 22.63it/s]\n",
            "Covariance estimation: 100%|██████████| 3136/3136 [00:00<00:00, 8505.63it/s]\n"
          ]
        },
        {
          "output_type": "stream",
          "name": "stdout",
          "text": [
            "peak memory: 2288.77 MiB, increment: 604.64 MiB\n"
          ]
        },
        {
          "output_type": "stream",
          "name": "stderr",
          "text": [
            "Feature extraction (train): 100%|██████████| 40/40 [00:02<00:00, 19.78it/s]\n",
            "Covariance estimation: 100%|██████████| 3136/3136 [00:00<00:00, 11735.21it/s]\n"
          ]
        },
        {
          "output_type": "stream",
          "name": "stdout",
          "text": [
            "peak memory: 2145.78 MiB, increment: 461.65 MiB\n"
          ]
        },
        {
          "output_type": "stream",
          "name": "stderr",
          "text": [
            "Feature extraction (train): 100%|██████████| 40/40 [00:02<00:00, 15.22it/s]\n",
            "Covariance estimation: 100%|██████████| 3136/3136 [00:00<00:00, 6509.21it/s]\n"
          ]
        },
        {
          "output_type": "stream",
          "name": "stdout",
          "text": [
            "peak memory: 2296.55 MiB, increment: 612.42 MiB\n"
          ]
        },
        {
          "output_type": "stream",
          "name": "stderr",
          "text": [
            "Feature extraction (train): 100%|██████████| 40/40 [00:01<00:00, 22.70it/s]\n",
            "Covariance estimation: 100%|██████████| 3136/3136 [00:00<00:00, 5330.69it/s]\n"
          ]
        },
        {
          "output_type": "stream",
          "name": "stdout",
          "text": [
            "peak memory: 2271.02 MiB, increment: 586.89 MiB\n",
            "peak memory: 1684.13 MiB, increment: 0.00 MiB\n",
            "peak memory: 1684.13 MiB, increment: 0.00 MiB\n",
            "peak memory: 1684.13 MiB, increment: 0.00 MiB\n",
            "peak memory: 1684.13 MiB, increment: 0.00 MiB\n",
            "[5, 10, 20, 30]\n",
            "[2288.77, 2145.78, 2296.55, 2271.02]\n",
            "[1684.13, 1684.13, 1684.13, 1684.13]\n"
          ]
        },
        {
          "output_type": "execute_result",
          "data": {
            "text/plain": [
              "Text(0.5, 0, 'no. of backbone features')"
            ]
          },
          "metadata": {},
          "execution_count": 40
        },
        {
          "output_type": "display_data",
          "data": {
            "text/plain": [
              "<Figure size 640x480 with 1 Axes>"
            ],
            "image/png": "[encoded data removed]"
          },
          "metadata": {}
        }
      ]
    },
    {
      "cell_type": "code",
      "source": [
        "# experiment with different batch size\n",
        "batch_sizes_memit_offline = []\n",
        "batch_sizes_memit_online = []\n",
        "\n",
        "for d in dataloaders_diff_batch_sizes:\n",
        "    mem_offline = %memit -o padim_offline.train(d)\n",
        "    batch_sizes_memit_offline.append(float(str(mem_offline).split(\" \")[2]))\n",
        "    mem_online = %memit -o padim_online.train(d, NUMBER_OF_BACKBONE_FEATURES, int(CROP_SIZE/4), int(CROP_SIZE/4))\n",
        "    batch_sizes_memit_online.append(float(str(mem_online).split(\" \")[2]))\n",
        "\n",
        "print(batch_sizes)\n",
        "print(batch_sizes_memit_offline)\n",
        "print(batch_sizes_memit_online)\n",
        "\n",
        "plt.plot(batch_sizes,batch_sizes_memit_offline, label=\"offline\")\n",
        "plt.plot(batch_sizes,batch_sizes_memit_online, label=\"online\")\n",
        "plt.ylabel('memory peak')\n",
        "plt.xlabel('batch size')\n",
        "plt.legend()\n",
        "plt.show()"
      ],
      "metadata": {
        "colab": {
          "base_uri": "https://localhost:8080/",
          "height": 848
        },
        "id": "axcraZ8D0fy4",
        "outputId": "c455d19a-71e0-49c2-e7c9-fcb8ae2b94ea"
      },
      "execution_count": 51,
      "outputs": [
        {
          "output_type": "stream",
          "name": "stderr",
          "text": [
            "Feature extraction (train): 100%|██████████| 30/30 [00:01<00:00, 22.61it/s]\n",
            "Covariance estimation: 100%|██████████| 3136/3136 [00:00<00:00, 11173.42it/s]\n"
          ]
        },
        {
          "output_type": "stream",
          "name": "stdout",
          "text": [
            "peak memory: 2075.74 MiB, increment: 394.82 MiB\n",
            "peak memory: 1680.92 MiB, increment: 0.00 MiB\n"
          ]
        },
        {
          "output_type": "stream",
          "name": "stderr",
          "text": [
            "Feature extraction (train): 100%|██████████| 15/15 [00:01<00:00,  8.14it/s]\n",
            "Covariance estimation: 100%|██████████| 3136/3136 [00:00<00:00, 10753.05it/s]\n"
          ]
        },
        {
          "output_type": "stream",
          "name": "stdout",
          "text": [
            "peak memory: 2113.38 MiB, increment: 432.46 MiB\n",
            "peak memory: 1680.92 MiB, increment: 0.00 MiB\n"
          ]
        },
        {
          "output_type": "stream",
          "name": "stderr",
          "text": [
            "Feature extraction (train): 100%|██████████| 10/10 [00:01<00:00,  7.84it/s]\n",
            "Covariance estimation: 100%|██████████| 3136/3136 [00:00<00:00, 10968.42it/s]\n"
          ]
        },
        {
          "output_type": "stream",
          "name": "stdout",
          "text": [
            "peak memory: 2081.29 MiB, increment: 400.38 MiB\n",
            "peak memory: 1680.92 MiB, increment: 0.00 MiB\n"
          ]
        },
        {
          "output_type": "stream",
          "name": "stderr",
          "text": [
            "Feature extraction (train): 100%|██████████| 8/8 [00:01<00:00,  5.53it/s]\n",
            "Covariance estimation: 100%|██████████| 3136/3136 [00:00<00:00, 7885.93it/s]\n"
          ]
        },
        {
          "output_type": "stream",
          "name": "stdout",
          "text": [
            "peak memory: 2118.64 MiB, increment: 437.73 MiB\n",
            "peak memory: 1680.92 MiB, increment: 0.00 MiB\n"
          ]
        },
        {
          "output_type": "stream",
          "name": "stderr",
          "text": [
            "Feature extraction (train): 100%|██████████| 6/6 [00:01<00:00,  3.10it/s]\n",
            "Covariance estimation: 100%|██████████| 3136/3136 [00:00<00:00, 11179.76it/s]\n"
          ]
        },
        {
          "output_type": "stream",
          "name": "stdout",
          "text": [
            "peak memory: 2091.92 MiB, increment: 411.00 MiB\n",
            "peak memory: 1680.92 MiB, increment: 0.00 MiB\n",
            "[1, 2, 3, 4, 5]\n",
            "[2075.74, 2113.38, 2081.29, 2118.64, 2091.92]\n",
            "[1680.92, 1680.92, 1680.92, 1680.92, 1680.92]\n"
          ]
        },
        {
          "output_type": "display_data",
          "data": {
            "text/plain": [
              "<Figure size 640x480 with 1 Axes>"
            ],
            "image/png": "[encoded data removed]"
          },
          "metadata": {}
        }
      ]
    },
    {
      "cell_type": "markdown",
      "source": [
        "## Time experiments"
      ],
      "metadata": {
        "id": "zHpqGWmm-X33"
      }
    },
    {
      "cell_type": "code",
      "source": [
        "# experiments with dataset size\n",
        "\n",
        "dataset_sizes_timeit_online = []\n",
        "dataset_sizes_timeit_offline = []\n",
        "\n",
        "for d in dataloaders_diff_sizes:\n",
        "    time_offline = %timeit -o -r1 -n1 padim_offline.train(d)\n",
        "    dataset_sizes_timeit_offline.append(str(time_offline).split(\" \")[:2])\n",
        "    time_online = %timeit -o -r1 -n1 padim_online.train(d, NUMBER_OF_BACKBONE_FEATURES, int(CROP_SIZE/4), int(CROP_SIZE/4))\n",
        "    dataset_sizes_timeit_online.append(str(time_online).split(\" \")[:2])\n",
        "\n",
        "print(dataloaders_sizes)\n",
        "print(dataset_sizes_timeit_offline)\n",
        "print(dataset_sizes_timeit_online)\n",
        "\n",
        "unit_dict = {\"ns\":10**(-9), \"us\":10**(-6), \"ms\":10**(-3), \"s\":1}\n",
        "\n",
        "online_time = []\n",
        "offline_time = []\n",
        "for v,unit in dataset_sizes_timeit_online:\n",
        "    online_time.append(float(v)*unit_dict[unit])\n",
        "\n",
        "for v,unit in dataset_sizes_timeit_offline:\n",
        "    offline_time.append(float(v)*unit_dict[unit])\n",
        "\n",
        "plt.plot(dataloaders_sizes,offline_time, label=\"offline\")\n",
        "plt.plot(dataloaders_sizes,online_time, label=\"online\")\n",
        "plt.legend()\n",
        "plt.ylabel('time [s]')\n",
        "plt.xlabel('no. of training examples')\n",
        "plt.show()"
      ],
      "metadata": {
        "colab": {
          "base_uri": "https://localhost:8080/",
          "height": 1000
        },
        "id": "VNuEb0NSMbep",
        "outputId": "7254f788-5bd2-48b0-c7d8-12515f206713"
      },
      "execution_count": 43,
      "outputs": [
        {
          "output_type": "stream",
          "name": "stderr",
          "text": [
            "Feature extraction (train): 100%|██████████| 10/10 [00:00<00:00, 13.63it/s]\n",
            "Covariance estimation: 100%|██████████| 3136/3136 [00:00<00:00, 12410.27it/s]\n"
          ]
        },
        {
          "output_type": "stream",
          "name": "stdout",
          "text": [
            "1.23 s ± 0 ns per loop (mean ± std. dev. of 1 run, 1 loop each)\n",
            "5.46 s ± 0 ns per loop (mean ± std. dev. of 1 run, 1 loop each)\n"
          ]
        },
        {
          "output_type": "stream",
          "name": "stderr",
          "text": [
            "Feature extraction (train): 100%|██████████| 20/20 [00:00<00:00, 23.99it/s]\n",
            "Covariance estimation: 100%|██████████| 3136/3136 [00:00<00:00, 11270.46it/s]\n"
          ]
        },
        {
          "output_type": "stream",
          "name": "stdout",
          "text": [
            "1.58 s ± 0 ns per loop (mean ± std. dev. of 1 run, 1 loop each)\n",
            "9.88 s ± 0 ns per loop (mean ± std. dev. of 1 run, 1 loop each)\n"
          ]
        },
        {
          "output_type": "stream",
          "name": "stderr",
          "text": [
            "Feature extraction (train): 100%|██████████| 30/30 [00:01<00:00, 24.07it/s]\n",
            "Covariance estimation: 100%|██████████| 3136/3136 [00:00<00:00, 10971.78it/s]\n"
          ]
        },
        {
          "output_type": "stream",
          "name": "stdout",
          "text": [
            "2.21 s ± 0 ns per loop (mean ± std. dev. of 1 run, 1 loop each)\n",
            "14.4 s ± 0 ns per loop (mean ± std. dev. of 1 run, 1 loop each)\n"
          ]
        },
        {
          "output_type": "stream",
          "name": "stderr",
          "text": [
            "Feature extraction (train): 100%|██████████| 40/40 [00:01<00:00, 23.94it/s]\n",
            "Covariance estimation: 100%|██████████| 3136/3136 [00:00<00:00, 9430.40it/s]\n"
          ]
        },
        {
          "output_type": "stream",
          "name": "stdout",
          "text": [
            "2.99 s ± 0 ns per loop (mean ± std. dev. of 1 run, 1 loop each)\n",
            "19.7 s ± 0 ns per loop (mean ± std. dev. of 1 run, 1 loop each)\n"
          ]
        },
        {
          "output_type": "stream",
          "name": "stderr",
          "text": [
            "Feature extraction (train): 100%|██████████| 50/50 [00:02<00:00, 24.00it/s]\n",
            "Covariance estimation: 100%|██████████| 3136/3136 [00:00<00:00, 9511.22it/s]\n"
          ]
        },
        {
          "output_type": "stream",
          "name": "stdout",
          "text": [
            "3.6 s ± 0 ns per loop (mean ± std. dev. of 1 run, 1 loop each)\n",
            "24.4 s ± 0 ns per loop (mean ± std. dev. of 1 run, 1 loop each)\n"
          ]
        },
        {
          "output_type": "stream",
          "name": "stderr",
          "text": [
            "Feature extraction (train): 100%|██████████| 60/60 [00:02<00:00, 24.05it/s]\n",
            "Covariance estimation: 100%|██████████| 3136/3136 [00:00<00:00, 8447.13it/s]\n"
          ]
        },
        {
          "output_type": "stream",
          "name": "stdout",
          "text": [
            "4.38 s ± 0 ns per loop (mean ± std. dev. of 1 run, 1 loop each)\n",
            "31 s ± 0 ns per loop (mean ± std. dev. of 1 run, 1 loop each)\n"
          ]
        },
        {
          "output_type": "stream",
          "name": "stderr",
          "text": [
            "Feature extraction (train): 100%|██████████| 70/70 [00:02<00:00, 24.09it/s]\n",
            "Covariance estimation: 100%|██████████| 3136/3136 [00:00<00:00, 8094.42it/s]\n"
          ]
        },
        {
          "output_type": "stream",
          "name": "stdout",
          "text": [
            "5.05 s ± 0 ns per loop (mean ± std. dev. of 1 run, 1 loop each)\n",
            "34.4 s ± 0 ns per loop (mean ± std. dev. of 1 run, 1 loop each)\n"
          ]
        },
        {
          "output_type": "stream",
          "name": "stderr",
          "text": [
            "Feature extraction (train): 100%|██████████| 80/80 [00:03<00:00, 23.61it/s]\n",
            "Covariance estimation: 100%|██████████| 3136/3136 [00:00<00:00, 8001.30it/s]\n"
          ]
        },
        {
          "output_type": "stream",
          "name": "stdout",
          "text": [
            "5.76 s ± 0 ns per loop (mean ± std. dev. of 1 run, 1 loop each)\n",
            "38.7 s ± 0 ns per loop (mean ± std. dev. of 1 run, 1 loop each)\n",
            "[10, 20, 30, 40, 50, 60, 70, 80]\n",
            "[['1.23', 's'], ['1.58', 's'], ['2.21', 's'], ['2.99', 's'], ['3.6', 's'], ['4.38', 's'], ['5.05', 's'], ['5.76', 's']]\n",
            "[['5.46', 's'], ['9.88', 's'], ['14.4', 's'], ['19.7', 's'], ['24.4', 's'], ['31', 's'], ['34.4', 's'], ['38.7', 's']]\n"
          ]
        },
        {
          "output_type": "display_data",
          "data": {
            "text/plain": [
              "<Figure size 640x480 with 1 Axes>"
            ],
            "image/png": "[encoded data removed]"
          },
          "metadata": {}
        }
      ]
    },
    {
      "cell_type": "code",
      "source": [
        "# experiment with different feature numbers\n",
        "\n",
        "feature_numbers_timeit_offline = []\n",
        "for model in padim_offline_diff_features_n:\n",
        "    time_offline = %timeit -o -r1 -n1 model.train(train_dataloader)\n",
        "    feature_numbers_timeit_offline.append(str(time_offline).split(\" \")[:2])\n",
        "\n",
        "feature_numbers_timeit_online = []\n",
        "for model in padim_online_diff_features_n:\n",
        "    time_online = %timeit -o -r1 -n1 model.train(train_dataloader, len(model.feature_subset_indices), int(CROP_SIZE/4), int(CROP_SIZE/4))\n",
        "    feature_numbers_timeit_online.append(str(time_offline).split(\" \")[:2])\n",
        "\n",
        "print(n_backbone_features)\n",
        "print(feature_numbers_timeit_offline)\n",
        "print(feature_numbers_timeit_online)\n",
        "\n",
        "online_time = []\n",
        "offline_time = []\n",
        "for v,unit in feature_numbers_timeit_online:\n",
        "    online_time.append(float(v)*unit_dict[unit])\n",
        "\n",
        "for v,unit in feature_numbers_timeit_offline:\n",
        "    offline_time.append(float(v)*unit_dict[unit])\n",
        "\n",
        "plt.plot(n_backbone_features,offline_time, label=\"offline\")\n",
        "plt.plot(n_backbone_features,online_time, label=\"online\")\n",
        "plt.legend()\n",
        "plt.ylabel('time [s]')\n",
        "plt.xlabel('no. of backbone features')"
      ],
      "metadata": {
        "colab": {
          "base_uri": "https://localhost:8080/",
          "height": 796
        },
        "id": "u18TpwptKsm1",
        "outputId": "10aef1ae-6669-4ce1-a9fb-20fae10db759"
      },
      "execution_count": 44,
      "outputs": [
        {
          "output_type": "stream",
          "name": "stderr",
          "text": [
            "Feature extraction (train): 100%|██████████| 40/40 [00:02<00:00, 19.65it/s]\n",
            "Covariance estimation: 100%|██████████| 3136/3136 [00:00<00:00, 6892.65it/s]\n"
          ]
        },
        {
          "output_type": "stream",
          "name": "stdout",
          "text": [
            "3.94 s ± 0 ns per loop (mean ± std. dev. of 1 run, 1 loop each)\n"
          ]
        },
        {
          "output_type": "stream",
          "name": "stderr",
          "text": [
            "Feature extraction (train): 100%|██████████| 40/40 [00:01<00:00, 23.55it/s]\n",
            "Covariance estimation: 100%|██████████| 3136/3136 [00:00<00:00, 11667.08it/s]\n"
          ]
        },
        {
          "output_type": "stream",
          "name": "stdout",
          "text": [
            "2.94 s ± 0 ns per loop (mean ± std. dev. of 1 run, 1 loop each)\n"
          ]
        },
        {
          "output_type": "stream",
          "name": "stderr",
          "text": [
            "Feature extraction (train): 100%|██████████| 40/40 [00:01<00:00, 24.05it/s]\n",
            "Covariance estimation: 100%|██████████| 3136/3136 [00:00<00:00, 8706.88it/s]\n"
          ]
        },
        {
          "output_type": "stream",
          "name": "stdout",
          "text": [
            "3 s ± 0 ns per loop (mean ± std. dev. of 1 run, 1 loop each)\n"
          ]
        },
        {
          "output_type": "stream",
          "name": "stderr",
          "text": [
            "Feature extraction (train): 100%|██████████| 40/40 [00:01<00:00, 23.99it/s]\n",
            "Covariance estimation: 100%|██████████| 3136/3136 [00:00<00:00, 6520.08it/s]\n"
          ]
        },
        {
          "output_type": "stream",
          "name": "stdout",
          "text": [
            "3.11 s ± 0 ns per loop (mean ± std. dev. of 1 run, 1 loop each)\n",
            "19.8 s ± 0 ns per loop (mean ± std. dev. of 1 run, 1 loop each)\n",
            "18.9 s ± 0 ns per loop (mean ± std. dev. of 1 run, 1 loop each)\n",
            "20 s ± 0 ns per loop (mean ± std. dev. of 1 run, 1 loop each)\n",
            "19.2 s ± 0 ns per loop (mean ± std. dev. of 1 run, 1 loop each)\n",
            "[5, 10, 20, 30]\n",
            "[['3.94', 's'], ['2.94', 's'], ['3', 's'], ['3.11', 's']]\n",
            "[['3.11', 's'], ['3.11', 's'], ['3.11', 's'], ['3.11', 's']]\n"
          ]
        },
        {
          "output_type": "execute_result",
          "data": {
            "text/plain": [
              "Text(0.5, 0, 'no. of backbone features')"
            ]
          },
          "metadata": {},
          "execution_count": 44
        },
        {
          "output_type": "display_data",
          "data": {
            "text/plain": [
              "<Figure size 640x480 with 1 Axes>"
            ],
            "image/png": "[encoded data removed]"
          },
          "metadata": {}
        }
      ]
    },
    {
      "cell_type": "code",
      "source": [
        "# experiment with different batch size\n",
        "batch_sizes_timeit_offline = []\n",
        "batch_sizes_timeit_online = []\n",
        "\n",
        "for d in dataloaders_diff_batch_sizes:\n",
        "    time_offline = %timeit -o -r1 -n1 padim_offline.train(d)\n",
        "    batch_sizes_timeit_offline.append(str(time_offline).split(\" \")[:2])\n",
        "    time_online = %timeit -o -r1 -n1 padim_online.train(d, NUMBER_OF_BACKBONE_FEATURES, int(CROP_SIZE/4), int(CROP_SIZE/4))\n",
        "    batch_sizes_timeit_online.append(str(time_online).split(\" \")[:2])\n",
        "\n",
        "print(batch_sizes)\n",
        "print(batch_sizes_timeit_offline)\n",
        "print(batch_sizes_timeit_online)\n",
        "\n",
        "online_time = []\n",
        "offline_time = []\n",
        "for v,unit in batch_sizes_timeit_online:\n",
        "    online_time.append(float(v)*unit_dict[unit])\n",
        "\n",
        "for v,unit in batch_sizes_timeit_offline:\n",
        "    offline_time.append(float(v)*unit_dict[unit])\n",
        "\n",
        "plt.plot(batch_sizes,offline_time, label=\"offline\")\n",
        "plt.plot(batch_sizes,online_time, label=\"online\")\n",
        "plt.ylabel('time [s] peak')\n",
        "plt.xlabel('batch size')\n",
        "plt.legend()\n",
        "plt.show()"
      ],
      "metadata": {
        "colab": {
          "base_uri": "https://localhost:8080/",
          "height": 852
        },
        "id": "ErUMKknxUF-G",
        "outputId": "13975635-0acc-4461-bae7-67b528fe9aed"
      },
      "execution_count": 54,
      "outputs": [
        {
          "output_type": "stream",
          "name": "stderr",
          "text": [
            "Feature extraction (train): 100%|██████████| 30/30 [00:01<00:00, 23.75it/s]\n",
            "Covariance estimation: 100%|██████████| 3136/3136 [00:00<00:00, 8295.95it/s]\n"
          ]
        },
        {
          "output_type": "stream",
          "name": "stdout",
          "text": [
            "2.37 s ± 0 ns per loop (mean ± std. dev. of 1 run, 1 loop each)\n",
            "15.4 s ± 0 ns per loop (mean ± std. dev. of 1 run, 1 loop each)\n"
          ]
        },
        {
          "output_type": "stream",
          "name": "stderr",
          "text": [
            "Feature extraction (train): 100%|██████████| 15/15 [00:01<00:00, 12.21it/s]\n",
            "Covariance estimation: 100%|██████████| 3136/3136 [00:00<00:00, 10549.37it/s]\n"
          ]
        },
        {
          "output_type": "stream",
          "name": "stdout",
          "text": [
            "2.22 s ± 0 ns per loop (mean ± std. dev. of 1 run, 1 loop each)\n",
            "14.6 s ± 0 ns per loop (mean ± std. dev. of 1 run, 1 loop each)\n"
          ]
        },
        {
          "output_type": "stream",
          "name": "stderr",
          "text": [
            "Feature extraction (train): 100%|██████████| 10/10 [00:01<00:00,  8.25it/s]\n",
            "Covariance estimation: 100%|██████████| 3136/3136 [00:00<00:00, 10208.76it/s]\n"
          ]
        },
        {
          "output_type": "stream",
          "name": "stdout",
          "text": [
            "2.23 s ± 0 ns per loop (mean ± std. dev. of 1 run, 1 loop each)\n",
            "14.6 s ± 0 ns per loop (mean ± std. dev. of 1 run, 1 loop each)\n"
          ]
        },
        {
          "output_type": "stream",
          "name": "stderr",
          "text": [
            "Feature extraction (train): 100%|██████████| 8/8 [00:01<00:00,  6.73it/s]\n",
            "Covariance estimation: 100%|██████████| 3136/3136 [00:00<00:00, 7791.85it/s]\n"
          ]
        },
        {
          "output_type": "stream",
          "name": "stdout",
          "text": [
            "2.45 s ± 0 ns per loop (mean ± std. dev. of 1 run, 1 loop each)\n",
            "15 s ± 0 ns per loop (mean ± std. dev. of 1 run, 1 loop each)\n"
          ]
        },
        {
          "output_type": "stream",
          "name": "stderr",
          "text": [
            "Feature extraction (train): 100%|██████████| 6/6 [00:01<00:00,  5.15it/s]\n",
            "Covariance estimation: 100%|██████████| 3136/3136 [00:00<00:00, 9878.09it/s]\n"
          ]
        },
        {
          "output_type": "stream",
          "name": "stdout",
          "text": [
            "2.18 s ± 0 ns per loop (mean ± std. dev. of 1 run, 1 loop each)\n",
            "14.3 s ± 0 ns per loop (mean ± std. dev. of 1 run, 1 loop each)\n",
            "[1, 2, 3, 4, 5]\n",
            "[['2.37', 's'], ['2.22', 's'], ['2.23', 's'], ['2.45', 's'], ['2.18', 's']]\n",
            "[['15.4', 's'], ['14.6', 's'], ['14.6', 's'], ['15', 's'], ['14.3', 's']]\n"
          ]
        },
        {
          "output_type": "display_data",
          "data": {
            "text/plain": [
              "<Figure size 640x480 with 1 Axes>"
            ],
            "image/png": "[encoded data removed]"
          },
          "metadata": {}
        }
      ]
    },
    {
      "cell_type": "markdown",
      "metadata": {
        "id": "E5IHwtvAyBBt"
      },
      "source": [
        "```Your conclusions go here```\n",
        "\n",
        "> Memory peak increases significantly faster with the number of training examples for the offline padim than for the online one. Thanks to only keeping embedding vector for one batch at a time, memory usage is significantly lower for the online implementation.\n",
        "\n",
        "> It takes more time to estimate cov and mean using online algorithm and the time needed increases faster with the no. of training examples than for the offline implementation. Time complexity looks linear, concluding from the time plotted against no. of training examples.\n",
        "\n"
      ]
    }
  ],
  "metadata": {
    "kernelspec": {
      "display_name": "Python 3",
      "name": "python3"
    },
    "language_info": {
      "codemirror_mode": {
        "name": "ipython",
        "version": 3
      },
      "file_extension": ".py",
      "mimetype": "text/x-python",
      "name": "python",
      "nbconvert_exporter": "python",
      "pygments_lexer": "ipython3",
      "version": "3.10.11"
    },
    "colab": {
      "provenance": [],
      "gpuType": "T4"
    },
    "accelerator": "GPU"
  },
  "nbformat": 4,
  "nbformat_minor": 0
}